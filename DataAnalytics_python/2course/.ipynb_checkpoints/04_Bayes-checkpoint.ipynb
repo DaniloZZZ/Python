{
 "cells": [
  {
   "cell_type": "code",
   "execution_count": 7,
   "metadata": {
    "collapsed": false
   },
   "outputs": [
    {
     "ename": "ImportError",
     "evalue": "No module named Pandas",
     "output_type": "error",
     "traceback": [
      "\u001b[0;31m\u001b[0m",
      "\u001b[0;31mImportError\u001b[0mTraceback (most recent call last)",
      "\u001b[0;32m<ipython-input-7-3e732e6961e9>\u001b[0m in \u001b[0;36m<module>\u001b[0;34m()\u001b[0m\n\u001b[1;32m      1\u001b[0m \u001b[0;32mimport\u001b[0m \u001b[0msklearn\u001b[0m\u001b[0;34m.\u001b[0m\u001b[0mdatasets\u001b[0m \u001b[0;32mas\u001b[0m \u001b[0mds\u001b[0m\u001b[0;34m\u001b[0m\u001b[0m\n\u001b[1;32m      2\u001b[0m \u001b[0;32mfrom\u001b[0m \u001b[0msklearn\u001b[0m \u001b[0;32mimport\u001b[0m \u001b[0mcross_validation\u001b[0m \u001b[0;34m,\u001b[0m\u001b[0mnaive_bayes\u001b[0m\u001b[0;34m\u001b[0m\u001b[0m\n\u001b[0;32m----> 3\u001b[0;31m \u001b[0;32mimport\u001b[0m \u001b[0mPandas\u001b[0m \u001b[0;32mas\u001b[0m \u001b[0mpd\u001b[0m\u001b[0;34m\u001b[0m\u001b[0m\n\u001b[0m",
      "\u001b[0;31mImportError\u001b[0m: No module named Pandas"
     ]
    }
   ],
   "source": [
    "import sklearn.datasets as ds\n",
    "from sklearn import cross_validation ,naive_bayes \n",
    "import Pandas as pd"
   ]
  },
  {
   "cell_type": "code",
   "execution_count": 12,
   "metadata": {
    "collapsed": false
   },
   "outputs": [],
   "source": [
    "breast =  ds.load_breast_cancer()\n",
    "digits = ds.load_digits()\n",
    "bern  = naive_bayes.BernoulliNB()\n",
    "mult = naive_bayes.MultinomialNB()\n",
    "gauss = naive_bayes.GaussianNB()\n"
   ]
  },
  {
   "cell_type": "code",
   "execution_count": 16,
   "metadata": {
    "collapsed": false
   },
   "outputs": [
    {
     "name": "stdout",
     "output_type": "stream",
     "text": [
      "Breast, b,m,g: 0.627420402859 0.894579040193 0.936749280609\n",
      "Digits, b,m,g: 0.627420402859 0.894579040193 0.936749280609\n"
     ]
    }
   ],
   "source": [
    "cv_b_b = cross_validation.cross_val_score(bern,breast.data,breast.target).mean()\n",
    "cv_b_m = cross_validation.cross_val_score(mult,breast.data,breast.target).mean()\n",
    "cv_b_g = cross_validation.cross_val_score(gauss,breast.data,breast.target).mean()\n",
    "\n",
    "cv_d_b = cross_validation.cross_val_score(bern,breast.data,breast.target).mean()\n",
    "cv_d_m = cross_validation.cross_val_score(mult,breast.data,breast.target).mean()\n",
    "cv_d_g = cross_validation.cross_val_score(gauss,breast.data,breast.target).mean()\n",
    "\n",
    "print \"Breast, b,m,g:\",cv_b_b,cv_b_m,cv_b_g\n",
    "print \"Digits, b,m,g:\",cv_d_b,cv_d_m,cv_d_g"
   ]
  },
  {
   "cell_type": "code",
   "execution_count": 17,
   "metadata": {
    "collapsed": true
   },
   "outputs": [],
   "source": [
    "def write_answer1(score):\n",
    "    with open(\"Bayes_answer1.txt\", \"w\") as fout:\n",
    "        fout.write(str(score))\n",
    "def write_answer2(score):\n",
    "    with open(\"Bayes_answer2.txt\", \"w\") as fout:\n",
    "        fout.write(str(score))\n",
    "write_answer1(cv_b_g)\n",
    "write_answer2(cv_d_g)\n"
   ]
  },
  {
   "cell_type": "code",
   "execution_count": null,
   "metadata": {
    "collapsed": true
   },
   "outputs": [],
   "source": []
  }
 ],
 "metadata": {
  "kernelspec": {
   "display_name": "Python 2",
   "language": "python",
   "name": "python2"
  },
  "language_info": {
   "codemirror_mode": {
    "name": "ipython",
    "version": 2
   },
   "file_extension": ".py",
   "mimetype": "text/x-python",
   "name": "python",
   "nbconvert_exporter": "python",
   "pygments_lexer": "ipython2",
   "version": "2.7.6"
  }
 },
 "nbformat": 4,
 "nbformat_minor": 1
}
