{
 "cells": [
  {
   "cell_type": "code",
   "execution_count": 83,
   "metadata": {
    "collapsed": true
   },
   "outputs": [],
   "source": [
    "import numpy as np\n",
    "import sklearn.datasets as ds\n",
    "import sklearn.cross_validation as c_v\n",
    "import pandas as pd\n",
    "from matplotlib import pyplot as plt\n",
    "%matplotlib inline"
   ]
  },
  {
   "cell_type": "code",
   "execution_count": 96,
   "metadata": {
    "collapsed": false
   },
   "outputs": [],
   "source": [
    "bost = ds.load_boston()\n",
    "bost.data.shape\n",
    "X_train = bost.data[:379,:]\n",
    "X_test =bost.data[379:,:]\n",
    "y_train = bost.target[:379]\n",
    "y_test =  bost.target[379:]\n",
    "\n"
   ]
  },
  {
   "cell_type": "code",
   "execution_count": 97,
   "metadata": {
    "collapsed": false
   },
   "outputs": [
    {
     "data": {
      "text/plain": [
       "array([ 0.9,  0.9,  0.9,  0.9,  0.9,  0.9,  0.9,  0.9,  0.9,  0.9,  0.9,\n",
       "        0.9,  0.9,  0.9,  0.9,  0.9,  0.9,  0.9,  0.9,  0.9,  0.9,  0.9,\n",
       "        0.9,  0.9,  0.9,  0.9,  0.9,  0.9,  0.9,  0.9,  0.9,  0.9,  0.9,\n",
       "        0.9,  0.9,  0.9,  0.9,  0.9,  0.9,  0.9,  0.9,  0.9,  0.9,  0.9,\n",
       "        0.9,  0.9,  0.9,  0.9,  0.9,  0.9,  0.9])"
      ]
     },
     "execution_count": 97,
     "metadata": {},
     "output_type": "execute_result"
    }
   ],
   "source": [
    "import sklearn.tree as tr\n",
    "n=50\n",
    "# generating first tree\n",
    "tree = tr.DecisionTreeRegressor(max_depth=5,random_state=42)\n",
    "tree.fit(X_train,y_train)\n",
    "\n",
    "def gbm(X):\n",
    "    return [sum([coeff * algo.predict([x])[0] for algo, coeff in zip(trees, coefs)]) for x in X]\n",
    "\n",
    "#creating arrays\n",
    "trees = [tree]\n",
    "coefs = [0.9]\n",
    "\n",
    "for i in np.arange(0,n):\n",
    "    tree = tr.DecisionTreeRegressor(max_depth=5,random_state=42)\n",
    "    tree.fit(X_train,(y_train-gbm(X_train)))\n",
    "    trees = np.append(trees,tree)\n",
    "    coefs = np.append(coefs,[0.9])\n",
    "coefs"
   ]
  },
  {
   "cell_type": "code",
   "execution_count": null,
   "metadata": {
    "collapsed": false
   },
   "outputs": [],
   "source": []
  },
  {
   "cell_type": "code",
   "execution_count": 98,
   "metadata": {
    "collapsed": false
   },
   "outputs": [],
   "source": [
    "import sklearn.metrics as metrics\n",
    "\n",
    "def wr1(ans):\n",
    "    with open(\"Grad_Boost1.txt\", \"w\") as fout:\n",
    "        fout.write(str(ans))\n",
    "def wr2(ans):\n",
    "    with open(\"Grad_Boost2.txt\", \"w\") as fout:\n",
    "        fout.write(str(ans))\n",
    "def wr3(ans):\n",
    "    with open(\"Grad_Boost3.txt\", \"w\") as fout:\n",
    "        fout.write(str(ans))\n",
    "def wr4(ans):\n",
    "    with open(\"Grad_Boost4.txt\", \"w\") as fout:\n",
    "        fout.write(str(ans))"
   ]
  },
  {
   "cell_type": "code",
   "execution_count": 99,
   "metadata": {
    "collapsed": false
   },
   "outputs": [],
   "source": [
    "error= metrics.mean_squared_error(y_test,gbm(X_test))"
   ]
  },
  {
   "cell_type": "code",
   "execution_count": 100,
   "metadata": {
    "collapsed": false
   },
   "outputs": [
    {
     "name": "stdout",
     "output_type": "stream",
     "text": [
      "29.9959123478\n"
     ]
    }
   ],
   "source": [
    "wr1(np.sqrt(error))\n",
    "print error"
   ]
  },
  {
   "cell_type": "code",
   "execution_count": 101,
   "metadata": {
    "collapsed": false
   },
   "outputs": [
    {
     "name": "stdout",
     "output_type": "stream",
     "text": [
      "[ 0.9         0.45        0.3         0.225       0.18        0.15\n",
      "  0.12857143  0.1125      0.1         0.09        0.08181818  0.075\n",
      "  0.06923077  0.06428571  0.06        0.05625     0.05294118  0.05\n",
      "  0.04736842  0.045       0.04285714  0.04090909  0.03913043  0.0375      0.036\n",
      "  0.03461538  0.03333333  0.03214286  0.03103448  0.03        0.02903226\n",
      "  0.028125    0.02727273  0.02647059  0.02571429  0.025       0.02432432\n",
      "  0.02368421  0.02307692  0.0225      0.02195122  0.02142857  0.02093023\n",
      "  0.02045455  0.02        0.01956522  0.01914894  0.01875     0.01836735\n",
      "  0.018     ]\n",
      "4.81089328026\n"
     ]
    }
   ],
   "source": [
    "tree1 = tr.DecisionTreeRegressor(max_depth=5,random_state=42)\n",
    "tree1.fit(X_train,y_train)\n",
    "trees1 = [tree1]\n",
    "coefs1 = [0.9]\n",
    "\n",
    "def gbm1(X):\n",
    "    return [sum([coeff * algo.predict([x])[0] for algo, coeff in zip(trees1, coefs1)]) for x in X]\n",
    "trees = [tree]\n",
    "\n",
    "for i in np.arange(1,n):\n",
    "    tree = tr.DecisionTreeRegressor(max_depth=5,random_state=42)\n",
    "    tree.fit(X_train,(y_train-gbm1(X_train)))\n",
    "    trees1 = np.append(trees1,tree)\n",
    "    coefs1 = np.append(coefs1,0.9/(1+i))\n",
    "    \n",
    "    \n",
    "print coefs1\n",
    "err1 = metrics.mean_squared_error(y_test,gbm1(X_test))\n",
    "print np.sqrt(err1)\n",
    "wr2(np.sqrt(err1))"
   ]
  },
  {
   "cell_type": "code",
   "execution_count": null,
   "metadata": {
    "collapsed": false
   },
   "outputs": [],
   "source": []
  },
  {
   "cell_type": "code",
   "execution_count": 102,
   "metadata": {
    "collapsed": false
   },
   "outputs": [
    {
     "data": {
      "text/plain": [
       "[<matplotlib.lines.Line2D at 0xd574630>]"
      ]
     },
     "execution_count": 102,
     "metadata": {},
     "output_type": "execute_result"
    },
    {
     "data": {
      "image/png": "[encoded data removed]",
      "text/plain": [
       "<matplotlib.figure.Figure at 0xb65b5f8>"
      ]
     },
     "metadata": {},
     "output_type": "display_data"
    }
   ],
   "source": [
    "xs = np.arange(1,100,3)\n",
    "ys = np.zeros(xs.shape)\n",
    "s=0\n",
    "for i in xs:\n",
    "    bst = e.GradientBoostingRegressor(n_estimators=i)\n",
    "    bst.fit(X_train,y_train)\n",
    "    ys[s] = metrics.mean_squared_error(y_test,bst.predict(X_test))\n",
    "    s=s+1\n",
    "plt.plot(xs,ys)    "
   ]
  },
  {
   "cell_type": "code",
   "execution_count": 103,
   "metadata": {
    "collapsed": false
   },
   "outputs": [
    {
     "data": {
      "text/plain": [
       "[<matplotlib.lines.Line2D at 0xd730fd0>]"
      ]
     },
     "execution_count": 103,
     "metadata": {},
     "output_type": "execute_result"
    },
    {
     "data": {
      "image/png": "[encoded data removed]",
      "text/plain": [
       "<matplotlib.figure.Figure at 0xc9a2a58>"
      ]
     },
     "metadata": {},
     "output_type": "display_data"
    }
   ],
   "source": [
    "xd = np.arange(1,70,3)\n",
    "yd = np.zeros(xd.shape)\n",
    "s=0\n",
    "for i in xd:\n",
    "    bst = e.GradientBoostingRegressor(max_depth=i,n_estimators=50)\n",
    "    bst.fit(X_train,y_train)\n",
    "    yd[s] = metrics.mean_squared_error(y_test,bst.predict(X_test))\n",
    "    s=s+1\n",
    "plt.plot(xd,yd)"
   ]
  },
  {
   "cell_type": "code",
   "execution_count": 104,
   "metadata": {
    "collapsed": true
   },
   "outputs": [],
   "source": [
    "wr3(1)"
   ]
  },
  {
   "cell_type": "code",
   "execution_count": 105,
   "metadata": {
    "collapsed": true
   },
   "outputs": [],
   "source": [
    "import sklearn.linear_model as lm"
   ]
  },
  {
   "cell_type": "code",
   "execution_count": 106,
   "metadata": {
    "collapsed": false
   },
   "outputs": [
    {
     "name": "stdout",
     "output_type": "stream",
     "text": [
      "68.4006415169\n"
     ]
    }
   ],
   "source": [
    "regr = lm.LinearRegression()\n",
    "regr.fit(X_train,y_train)\n",
    "erlin = metrics.mean_squared_error(y_test,regr.predict(X_test))\n",
    "print erlin\n",
    "wr4(np.sqrt(erlin))"
   ]
  },
  {
   "cell_type": "code",
   "execution_count": 107,
   "metadata": {
    "collapsed": false
   },
   "outputs": [
    {
     "data": {
      "text/plain": [
       "array([ 0.58053573,  0.62865424,  0.47946722,  0.17607003])"
      ]
     },
     "execution_count": 107,
     "metadata": {},
     "output_type": "execute_result"
    }
   ],
   "source": [
    "c_v.cross_val_score(bst,X_train,y_train,cv=4)"
   ]
  },
  {
   "cell_type": "code",
   "execution_count": 61,
   "metadata": {
    "collapsed": false
   },
   "outputs": [
    {
     "name": "stdout",
     "output_type": "stream",
     "text": [
      "[ 20.2  11.9  17.4  16.7  18.2   8.7  18.7  35.2  20.   18.5  18.   25.1\n",
      "  22.2  17.   20.4  10.2  21.4   5.   32.7  10.9  31.5   7.   21.2  23.7\n",
      "  50.   20.3  43.5  50.   22.   19.6  50.   23.1  33.8  22.4  26.2  11.8\n",
      "  22.5  33.3  23.8  18.6  22.   14.9  18.4  24.7  22.2  32.   33.4  15.\n",
      "  19.7  50.   29.1  19.6  19.1  19.6   8.3  32.9  24.6  34.9  42.8   6.3\n",
      "  16.8  28.2  16.4  19.5  16.2  29.9  17.7  17.1  22.   21.7  20.1  20.9\n",
      "  17.2  22.7  14.5  25.   22.2  24.3  30.8  13.2   8.8  28.7  20.5  19.1\n",
      "  12.7  23.2  10.8  26.5  24.   44.8  23.1  17.1  18.8  18.2  14.8  13.8\n",
      "  19.5  20.1  15.3  16.2  29.6  14.1  15.   23.7  19.2  24.3  22.5  36.4\n",
      "  27.1  13.8  24.5  12.5  20.8  13.9  22.5  29.6  34.7  13.4  27.9  23.9\n",
      "  21.4  15.6  28.1  25.   24.1  26.6  23.9  22.   11.7  20.6  26.6  12.3\n",
      "  33.1   5.6  13.3  20.9  17.9  22.9  43.1  50.   21.4  48.5  17.4  10.5\n",
      "  23.2   7.   14.4  27.5  21.    8.5  24.   20.6  17.8  19.8  14.9  13.4\n",
      "  25.2  20.7  28.6   9.5  33.2  20.7  29.1   5.   31.5  36.2  13.5  25.3\n",
      "  11.8  18.2  19.4  22.6  25.   23.8  32.4  17.5  21.4  50.   33.2  12.6\n",
      "  30.5  23.7  13.4  16.   19.3  23.9  17.5  13.6  21.1  17.4  14.5  21.9\n",
      "  22.   17.6  23.8  42.3  26.6  20.   20.6  10.4  22.8  19.4  24.7  21.9\n",
      "  20.6  22.3  19.3  27.1  19.1  15.2  20.8  22.9  24.8  28.4  17.8  20.5\n",
      "  23.1   7.2  22.4  13.3  12.7  32.   12.7  19.2  22.6  31.7  22.7  16.6\n",
      "  18.4  30.1  13.3  19.9  16.5  50.    7.4  27.5  20.5  13.   28.7  22.6\n",
      "  34.9  20.8  23.6  21.2  23.3  19.3  34.9  22.6  22.8  23.2  10.4  25.\n",
      "  22.9  46.   19.3  18.3  36.   19.9  16.1  21.8  13.9  19.5  19.9  23.9\n",
      "  36.5  23.1  17.2  19.1  20.6  28.   20.3  36.2  22.8  43.8   8.4  20.\n",
      "  15.6  13.1  23.6  20.6   7.2  15.7  23.3  23.4  18.3  14.5  20.1  24.8\n",
      "  17.1  13.8  13.1  15.4  23.1  50.   50.   41.7  18.5  16.1  27.5  45.4\n",
      "  15.4  21.7  18.6  21.4  21.2  17.8  17.3  18.7  26.7  20.   14.9  18.4\n",
      "  48.8  22.1   7.5  33.   16.7  24.8  37.6  20.2  50.   30.7  19.6  24.5\n",
      "  14.3  18.9  13.8  20.1  26.4  15.2  37.2  46.7  27.5  50.   18.7  22.\n",
      "  21.2  22.2  20.3  41.3  28.5  44.   23.5  23.9  16.6  20.4  17.8  21.7\n",
      "  24.6  23.   21.7  21.6  21.7  31.   29.8  16.1  18.1  24.8  21.   31.6\n",
      "  19.3  10.2  24.3   7.2   8.5  19.4  50.   15.   24.1  19.4  35.4  25.\n",
      "  29.4  11.3  14.1  24.4  14.1  10.9  24.1] [ 20.21203862  11.95481495  17.42646919  16.73007683  18.22234617\n",
      "   8.77130704  18.71976928  35.13473199  20.01304074  18.52080004\n",
      "  18.02340556  25.08675649  22.20173107  17.0285307   20.41100787\n",
      "  10.26357637  21.40585409   5.090376    32.64761643  10.95996873\n",
      "  31.45380096   7.08006845  21.20688485  23.69400041  49.85845612\n",
      "  20.31152324  43.39195566  49.85845612  22.00276183  19.61513089\n",
      "  49.85845612  23.09709267  33.74194728  22.40070032  26.18111597\n",
      "  11.85533033  22.50018494  33.24452417  23.79348503  18.62028466\n",
      "  22.00276183  14.93935363  18.42131542  24.68884663  22.20170244\n",
      "  31.95122407  33.34400879  15.03883825  19.71461551  49.85845612\n",
      "  29.06617002  19.61513089  19.11770777  19.61513089   8.37336855\n",
      "  32.84658568  24.58936201  34.83627813  42.6955633    6.3836761\n",
      "  16.82956146  28.17080842  16.43162297  19.51564626  16.23265372\n",
      "  29.862047    17.72492306  17.12801532  22.00276183  21.70430796\n",
      "  20.112554    20.90843098  17.22749995  22.69912555  14.54141514\n",
      "  24.9873005   22.20173107  24.29090814  30.7574086   13.24811505\n",
      "   8.87079166  28.66823153  20.51049249  19.11770777  12.75069193\n",
      "  23.19657729  10.86048411  26.47956984  23.99245427  44.68525575\n",
      "  23.09709267  17.12801532  18.81925391  18.22234617  14.83986901\n",
      "  13.84506308  19.5156749   20.112554    15.33729212  16.23265372\n",
      "  29.56359313  14.14347665  15.03883825  23.69400041  19.2171924\n",
      "  24.29090814  22.50018494  36.32854746  27.07647757  13.84506308\n",
      "  24.48990602  12.55172269  20.80894636  13.94442681  22.50018494\n",
      "  29.56359313  34.63730888  13.44705566  27.87235455  23.89292936\n",
      "  21.40585409  15.63574599  28.0713238   24.9873005   24.09191027\n",
      "  26.57905446  23.89292936  22.00276183  11.75584571  20.60997711\n",
      "  26.57905446  12.35275344  33.04555492   5.68728374  13.3476283\n",
      "  20.90843098  17.9238923   22.89812343  42.99401717  49.85845612\n",
      "  21.40585409  48.36618678  17.42646919  10.56203024  23.19657729\n",
      "   7.08006845  14.44193052  27.47441606  21.0079156    8.57233779\n",
      "  23.99248291  20.60997711  17.82440768  19.81410013  14.93935363\n",
      "  13.44708429  25.18629838  20.70946173  28.56871828   9.56718402\n",
      "  33.14503954  20.70946173  29.06617002   5.090376    31.45380096\n",
      "  36.12957822  13.54656891  25.28572573  11.85533033  18.22234617\n",
      "  19.41616164  22.59969819  24.9873005   23.79348503  32.34916256\n",
      "  17.52595381  21.40585409  49.85845612  33.14503954  12.65120731\n",
      "  30.45895474  23.69400041  13.44705566  16.03368448  19.31667702\n",
      "  23.89296965  17.52595381  13.64605354  21.10737159  17.42646919\n",
      "  14.54141514  21.9032772   22.00273319  17.62543844  23.79356562\n",
      "  42.19814019  26.57905446  20.01306938  20.60997711  10.46254562\n",
      "  22.79863881  19.41616164  24.68887526  21.90330583  20.60994848\n",
      "  22.30121569  19.31667702  27.07647757  19.11770777  15.2378075\n",
      "  20.80894636  22.89812343  24.78833125  28.36977766  17.82440768\n",
      "  20.51049249  23.09709267   7.2790377   22.40070032  13.3476283\n",
      "  12.75069193  31.95122407  12.75069193  19.21722103  22.59966956\n",
      "  31.65277021  22.69912555  16.63059221  18.42131542  30.06101625\n",
      "  13.34759967  19.91358475  16.53110759  49.85845612   7.47800694\n",
      "  27.47441606  20.51052112  13.04917443  28.66823153  22.59969819\n",
      "  34.83627813  20.80894636  23.59451578  21.20688485  23.29606192\n",
      "  19.31667702  34.83627813  22.59966956  22.79863881  23.19657729\n",
      "  10.46254562  24.98732913  22.89812343  45.87907122  19.31664839\n",
      "  18.32183079  35.93060897  19.91361339  16.1331691   21.80379258\n",
      "  13.9445074   19.51564626  19.91358475  23.89296965  36.42803208\n",
      "  23.09705238  17.22749995  19.11770777  20.60997711  27.97183917\n",
      "  20.31152324  36.12957822  22.79863881  43.69040953   8.47285317\n",
      "  20.01306938  15.63574599  13.14863042  23.59451578  20.60997711\n",
      "   7.2790377   15.73523061  23.29606192  23.39554654  18.32183079\n",
      "  14.54141514  20.112554    24.78833125  17.12801532  13.84502278\n",
      "  13.14860179  15.43677674  23.09705238  49.85845612  49.85845612\n",
      "  41.60123245  18.52080004  16.1331691   27.47441606  45.28216349\n",
      "  15.43677674  21.70430796  18.62028466  21.40585409  21.20688485\n",
      "  17.82440768  17.32698457  18.71976928  26.67853908  20.01306938\n",
      "  14.93935363  18.42131542  48.66464065  22.10227508   7.57749157\n",
      "  32.9460703   16.73007683  24.78830262  37.52236293  20.21203862\n",
      "  49.85845612  30.65792398  19.61510225  24.48987739  14.34244589\n",
      "  18.91873853  13.84502278  20.112554    26.38008521  15.2378075\n",
      "  37.12442444  46.57546358  27.47441606  49.85845612  18.71976928\n",
      "  22.00276183  21.20688485  22.20173107  20.31152324  41.20329396\n",
      "  28.46929092  43.88937877  23.49503116  23.89296965  16.63059221\n",
      "  20.41100787  17.82440768  21.70430796  24.58933338  22.99768864\n",
      "  21.70430796  21.60482334  21.70430796  30.95637785  29.76256238\n",
      "  16.1331691   18.12283292  24.78833125  21.00794423  31.55328558\n",
      "  19.31667702  10.26357637  24.29090814   7.2790377    8.57233779\n",
      "  19.41616164  49.85845612  15.03883825  24.0919389   19.41616164\n",
      "  35.33370124  24.9873005   29.36462389  11.35790722  14.14347665\n",
      "  24.39039276  14.14347665  10.95996873  24.0919389 ]\n"
     ]
    }
   ],
   "source": [
    "print y_train,bst.predict(X_train)"
   ]
  },
  {
   "cell_type": "code",
   "execution_count": null,
   "metadata": {
    "collapsed": true
   },
   "outputs": [],
   "source": []
  }
 ],
 "metadata": {
  "kernelspec": {
   "display_name": "Python 2",
   "language": "python",
   "name": "python2"
  },
  "language_info": {
   "codemirror_mode": {
    "name": "ipython",
    "version": 2
   },
   "file_extension": ".py",
   "mimetype": "text/x-python",
   "name": "python",
   "nbconvert_exporter": "python",
   "pygments_lexer": "ipython2",
   "version": "2.7.6"
  }
 },
 "nbformat": 4,
 "nbformat_minor": 0
}
