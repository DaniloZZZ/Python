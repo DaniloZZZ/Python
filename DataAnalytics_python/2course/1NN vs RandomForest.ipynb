{
 "cells": [
  {
   "cell_type": "code",
   "execution_count": 1,
   "metadata": {
    "collapsed": true
   },
   "outputs": [],
   "source": [
    "import sklearn.datasets as ds\n",
    "from sklearn import cross_validation \n",
    "import numpy as np\n",
    "import pandas as pd\n",
    "import sklearn.ensemble as en\n",
    "import sklearn.neighbors as nb\n"
   ]
  },
  {
   "cell_type": "code",
   "execution_count": 44,
   "metadata": {
    "collapsed": false
   },
   "outputs": [],
   "source": [
    "forest  = en.RandomForestClassifier(n_estimators = 400)\n",
    "neig = nb.KNeighborsClassifier(n_neighbors = 1)\n",
    "\n",
    "digits = ds.load_digits()\n",
    "tr_s = int(digits.data.shape[0]*0.75)\n",
    "X_tr = digits.data[:tr_s]\n",
    "y_tr = digits.target[:tr_s]\n",
    "X_ts = digits.data[tr_s:]\n",
    "y_ts  =digits.target[tr_s:]\n"
   ]
  },
  {
   "cell_type": "code",
   "execution_count": 58,
   "metadata": {
    "collapsed": false
   },
   "outputs": [
    {
     "name": "stdout",
     "output_type": "stream",
     "text": [
      "CPU times: user 4.93 s, sys: 12 ms, total: 4.94 s\n",
      "Wall time: 4.94 s\n",
      "CPU times: user 12 ms, sys: 0 ns, total: 12 ms\n",
      "Wall time: 11.8 ms\n",
      "0.935555555556 0.962222222222\n"
     ]
    }
   ],
   "source": [
    "import sklearn.metrics as metr\n",
    "%time forest.fit(X_tr,y_tr)\n",
    "%time neig.fit(X_tr,y_tr)\n",
    "\n",
    "forest_sc = metr.accuracy_score(y_ts,forest.predict(X_ts))\n",
    "neig_sc = metr.accuracy_score(y_ts,neig.predict(X_ts))\n",
    "print forest_sc,neig_sc"
   ]
  },
  {
   "cell_type": "code",
   "execution_count": 21,
   "metadata": {
    "collapsed": true
   },
   "outputs": [],
   "source": [
    "def write_answer1(score):\n",
    "    with open(\"1NNvsForest_answer1.txt\", \"w\") as fout:\n",
    "        fout.write(str(score))\n",
    "def write_answer2(score):\n",
    "    with open(\"1NNvsForest_answer2.txt\", \"w\") as fout:\n",
    "        fout.write(str(score))\n",
    "write_answer1(1-neig_sc)\n",
    "write_answer2(1-forest_sc)"
   ]
  },
  {
   "cell_type": "code",
   "execution_count": 38,
   "metadata": {
    "collapsed": false
   },
   "outputs": [
    {
     "data": {
      "text/plain": [
       "['n_neighbors',\n",
       " 'n_jobs',\n",
       " 'algorithm',\n",
       " 'metric',\n",
       " 'metric_params',\n",
       " 'p',\n",
       " 'weights',\n",
       " 'leaf_size']"
      ]
     },
     "execution_count": 38,
     "metadata": {},
     "output_type": "execute_result"
    }
   ],
   "source": [
    "neig.get_params().keys()"
   ]
  },
  {
   "cell_type": "code",
   "execution_count": 42,
   "metadata": {
    "collapsed": false
   },
   "outputs": [
    {
     "name": "stdout",
     "output_type": "stream",
     "text": [
      "CPU times: user 19.7 s, sys: 16 ms, total: 19.7 s\n",
      "Wall time: 19.8 s\n"
     ]
    },
    {
     "data": {
      "text/plain": [
       "GridSearchCV(cv=None, error_score='raise',\n",
       "       estimator=KNeighborsClassifier(algorithm='auto', leaf_size=30, metric='manhattan',\n",
       "           metric_params=None, n_jobs=1, n_neighbors=5, p=2,\n",
       "           weights='uniform'),\n",
       "       fit_params={}, iid=True, n_jobs=1,\n",
       "       param_grid={'n_neighbors': [1, 2, 3, 5, 7, 10], 'metric': ['euclidean', 'manhattan', 'braycurtis'], 'weights': ['uniform', 'distance']},\n",
       "       pre_dispatch='2*n_jobs', refit=True, scoring=None, verbose=0)"
      ]
     },
     "execution_count": 42,
     "metadata": {},
     "output_type": "execute_result"
    }
   ],
   "source": [
    "import sklearn.grid_search as gs\n",
    "params = {'metric' :['euclidean','manhattan','braycurtis'],'n_neighbors':[1,2,3,5,7,10],\n",
    "         'weights':['uniform','distance']}\n",
    "\n",
    "search = gs.GridSearchCV(neig,params)\n",
    "\n",
    "%time search.fit(X_tr,y_tr)"
   ]
  },
  {
   "cell_type": "code",
   "execution_count": 43,
   "metadata": {
    "collapsed": false
   },
   "outputs": [
    {
     "name": "stdout",
     "output_type": "stream",
     "text": [
      "{'n_neighbors': 1, 'metric': 'euclidean', 'weights': 'uniform'}\n"
     ]
    },
    {
     "data": {
      "text/plain": [
       "[mean: 0.95620, std: 0.01082, params: {'n_neighbors': 1, 'metric': 'euclidean', 'weights': 'uniform'},\n",
       " mean: 0.95620, std: 0.01082, params: {'n_neighbors': 1, 'metric': 'euclidean', 'weights': 'distance'},\n",
       " mean: 0.95100, std: 0.01251, params: {'n_neighbors': 2, 'metric': 'euclidean', 'weights': 'uniform'},\n",
       " mean: 0.95620, std: 0.01082, params: {'n_neighbors': 2, 'metric': 'euclidean', 'weights': 'distance'},\n",
       " mean: 0.94878, std: 0.01250, params: {'n_neighbors': 3, 'metric': 'euclidean', 'weights': 'uniform'},\n",
       " mean: 0.94878, std: 0.00762, params: {'n_neighbors': 3, 'metric': 'euclidean', 'weights': 'distance'},\n",
       " mean: 0.94061, std: 0.01451, params: {'n_neighbors': 5, 'metric': 'euclidean', 'weights': 'uniform'},\n",
       " mean: 0.94581, std: 0.00999, params: {'n_neighbors': 5, 'metric': 'euclidean', 'weights': 'distance'},\n",
       " mean: 0.93096, std: 0.01697, params: {'n_neighbors': 7, 'metric': 'euclidean', 'weights': 'uniform'},\n",
       " mean: 0.93244, std: 0.01750, params: {'n_neighbors': 7, 'metric': 'euclidean', 'weights': 'distance'},\n",
       " mean: 0.93096, std: 0.02017, params: {'n_neighbors': 10, 'metric': 'euclidean', 'weights': 'uniform'},\n",
       " mean: 0.93393, std: 0.01968, params: {'n_neighbors': 10, 'metric': 'euclidean', 'weights': 'distance'},\n",
       " mean: 0.94284, std: 0.01391, params: {'n_neighbors': 1, 'metric': 'manhattan', 'weights': 'uniform'},\n",
       " mean: 0.94284, std: 0.01391, params: {'n_neighbors': 1, 'metric': 'manhattan', 'weights': 'distance'},\n",
       " mean: 0.92799, std: 0.01792, params: {'n_neighbors': 2, 'metric': 'manhattan', 'weights': 'uniform'},\n",
       " mean: 0.94358, std: 0.01456, params: {'n_neighbors': 2, 'metric': 'manhattan', 'weights': 'distance'},\n",
       " mean: 0.93615, std: 0.01565, params: {'n_neighbors': 3, 'metric': 'manhattan', 'weights': 'uniform'},\n",
       " mean: 0.94135, std: 0.01316, params: {'n_neighbors': 3, 'metric': 'manhattan', 'weights': 'distance'},\n",
       " mean: 0.92353, std: 0.01482, params: {'n_neighbors': 5, 'metric': 'manhattan', 'weights': 'uniform'},\n",
       " mean: 0.93244, std: 0.01610, params: {'n_neighbors': 5, 'metric': 'manhattan', 'weights': 'distance'},\n",
       " mean: 0.92279, std: 0.02136, params: {'n_neighbors': 7, 'metric': 'manhattan', 'weights': 'uniform'},\n",
       " mean: 0.92650, std: 0.02069, params: {'n_neighbors': 7, 'metric': 'manhattan', 'weights': 'distance'},\n",
       " mean: 0.92131, std: 0.02060, params: {'n_neighbors': 10, 'metric': 'manhattan', 'weights': 'uniform'},\n",
       " mean: 0.92502, std: 0.02115, params: {'n_neighbors': 10, 'metric': 'manhattan', 'weights': 'distance'},\n",
       " mean: 0.94432, std: 0.01649, params: {'n_neighbors': 1, 'metric': 'braycurtis', 'weights': 'uniform'},\n",
       " mean: 0.94432, std: 0.01649, params: {'n_neighbors': 1, 'metric': 'braycurtis', 'weights': 'distance'},\n",
       " mean: 0.92502, std: 0.01444, params: {'n_neighbors': 2, 'metric': 'braycurtis', 'weights': 'uniform'},\n",
       " mean: 0.94432, std: 0.01649, params: {'n_neighbors': 2, 'metric': 'braycurtis', 'weights': 'distance'},\n",
       " mean: 0.93615, std: 0.02104, params: {'n_neighbors': 3, 'metric': 'braycurtis', 'weights': 'uniform'},\n",
       " mean: 0.93912, std: 0.01729, params: {'n_neighbors': 3, 'metric': 'braycurtis', 'weights': 'distance'},\n",
       " mean: 0.93690, std: 0.01666, params: {'n_neighbors': 5, 'metric': 'braycurtis', 'weights': 'uniform'},\n",
       " mean: 0.93838, std: 0.01520, params: {'n_neighbors': 5, 'metric': 'braycurtis', 'weights': 'distance'},\n",
       " mean: 0.93318, std: 0.01644, params: {'n_neighbors': 7, 'metric': 'braycurtis', 'weights': 'uniform'},\n",
       " mean: 0.93467, std: 0.01622, params: {'n_neighbors': 7, 'metric': 'braycurtis', 'weights': 'distance'},\n",
       " mean: 0.92428, std: 0.01534, params: {'n_neighbors': 10, 'metric': 'braycurtis', 'weights': 'uniform'},\n",
       " mean: 0.92873, std: 0.01700, params: {'n_neighbors': 10, 'metric': 'braycurtis', 'weights': 'distance'}]"
      ]
     },
     "execution_count": 43,
     "metadata": {},
     "output_type": "execute_result"
    }
   ],
   "source": [
    "print search.best_params_\n",
    "search.grid_scores_"
   ]
  },
  {
   "cell_type": "code",
   "execution_count": 55,
   "metadata": {
    "collapsed": false
   },
   "outputs": [
    {
     "data": {
      "text/plain": [
       "GridSearchCV(cv=None, error_score='raise',\n",
       "       estimator=KNeighborsClassifier(algorithm='auto', leaf_size=30, metric='minkowski',\n",
       "           metric_params=None, n_jobs=1, n_neighbors=1, p=2,\n",
       "           weights='uniform'),\n",
       "       fit_params={}, iid=True, n_jobs=1,\n",
       "       param_grid={'p': [1, 2, 3, 6, 10], 'n_neighbors': [1, 2, 5, 10]},\n",
       "       pre_dispatch='2*n_jobs', refit=True, scoring=None, verbose=0)"
      ]
     },
     "execution_count": 55,
     "metadata": {},
     "output_type": "execute_result"
    }
   ],
   "source": [
    "params1={'p':[1,2,3,6,10],'n_neighbors':[1,2,5,10]}\n",
    "\n",
    "search1 = gs.GridSearchCV(neig,params1)\n",
    "search1.fit(X_tr,y_tr)\n"
   ]
  },
  {
   "cell_type": "code",
   "execution_count": 57,
   "metadata": {
    "collapsed": false
   },
   "outputs": [
    {
     "name": "stdout",
     "output_type": "stream",
     "text": [
      "{'n_neighbors': 1, 'p': 2}\n",
      "[mean: 0.94284, std: 0.01391, params: {'n_neighbors': 1, 'p': 1}, mean: 0.95620, std: 0.01082, params: {'n_neighbors': 1, 'p': 2}, mean: 0.95546, std: 0.00800, params: {'n_neighbors': 1, 'p': 3}, mean: 0.94878, std: 0.00795, params: {'n_neighbors': 1, 'p': 6}, mean: 0.93987, std: 0.00615, params: {'n_neighbors': 1, 'p': 10}, mean: 0.92799, std: 0.01792, params: {'n_neighbors': 2, 'p': 1}, mean: 0.95100, std: 0.01251, params: {'n_neighbors': 2, 'p': 2}, mean: 0.95397, std: 0.01332, params: {'n_neighbors': 2, 'p': 3}, mean: 0.94358, std: 0.00860, params: {'n_neighbors': 2, 'p': 6}, mean: 0.93615, std: 0.00509, params: {'n_neighbors': 2, 'p': 10}, mean: 0.92353, std: 0.01482, params: {'n_neighbors': 5, 'p': 1}, mean: 0.94061, std: 0.01451, params: {'n_neighbors': 5, 'p': 2}, mean: 0.93838, std: 0.01165, params: {'n_neighbors': 5, 'p': 3}, mean: 0.94432, std: 0.00811, params: {'n_neighbors': 5, 'p': 6}, mean: 0.93987, std: 0.00892, params: {'n_neighbors': 5, 'p': 10}, mean: 0.92131, std: 0.02060, params: {'n_neighbors': 10, 'p': 1}, mean: 0.93096, std: 0.02017, params: {'n_neighbors': 10, 'p': 2}, mean: 0.93541, std: 0.01576, params: {'n_neighbors': 10, 'p': 3}, mean: 0.93764, std: 0.01180, params: {'n_neighbors': 10, 'p': 6}, mean: 0.93022, std: 0.01528, params: {'n_neighbors': 10, 'p': 10}]\n"
     ]
    }
   ],
   "source": [
    "print search1.best_params_\n",
    "print search1.grid_scores_"
   ]
  },
  {
   "cell_type": "code",
   "execution_count": null,
   "metadata": {
    "collapsed": true
   },
   "outputs": [],
   "source": []
  }
 ],
 "metadata": {
  "kernelspec": {
   "display_name": "Python [Root]",
   "language": "python",
   "name": "Python [Root]"
  },
  "language_info": {
   "codemirror_mode": {
    "name": "ipython",
    "version": 2
   },
   "file_extension": ".py",
   "mimetype": "text/x-python",
   "name": "python",
   "nbconvert_exporter": "python",
   "pygments_lexer": "ipython2",
   "version": "2.7.11"
  }
 },
 "nbformat": 4,
 "nbformat_minor": 1
}
