{
 "cells": [
  {
   "cell_type": "code",
   "execution_count": 1,
   "metadata": {
    "collapsed": false
   },
   "outputs": [],
   "source": [
    "import pandas as pd\n",
    "import numpy as np"
   ]
  },
  {
   "cell_type": "code",
   "execution_count": 193,
   "metadata": {
    "collapsed": false
   },
   "outputs": [
    {
     "data": {
      "text/plain": [
       "Index([u'id', u'user_id', u'venue_id', u'latitude', u'longitude',\n",
       "       u'created_at'],\n",
       "      dtype='object')"
      ]
     },
     "execution_count": 193,
     "metadata": {},
     "output_type": "execute_result"
    }
   ],
   "source": [
    "data = pd.read_csv('checkins.csv',delimiter='|')\n",
    "data.columns"
   ]
  },
  {
   "cell_type": "code",
   "execution_count": 194,
   "metadata": {
    "collapsed": false
   },
   "outputs": [],
   "source": [
    "coor = pd.DataFrame()\n",
    "#coor['latitude'] = data['latitude']\n",
    "#coor['longitude'] = data['longitude']\n",
    "data = data[data['longitude']!='                   ']\n",
    "coor = data[['latitude','longitude']][:10000].astype(float)"
   ]
  },
  {
   "cell_type": "code",
   "execution_count": 195,
   "metadata": {
    "collapsed": false
   },
   "outputs": [],
   "source": [
    "coor.to_csv('coor.csv',index=False)"
   ]
  },
  {
   "cell_type": "code",
   "execution_count": 196,
   "metadata": {
    "collapsed": false
   },
   "outputs": [],
   "source": [
    "import sklearn.cluster as cl"
   ]
  },
  {
   "cell_type": "code",
   "execution_count": 197,
   "metadata": {
    "collapsed": false
   },
   "outputs": [
    {
     "data": {
      "text/plain": [
       "MeanShift(bandwidth=0.1, bin_seeding=False, cluster_all=True, min_bin_freq=1,\n",
       "     n_jobs=1, seeds=None)"
      ]
     },
     "execution_count": 197,
     "metadata": {},
     "output_type": "execute_result"
    }
   ],
   "source": [
    "classifier = cl.MeanShift(bandwidth=0.1)\n",
    "classifier.fit(coor)"
   ]
  },
  {
   "cell_type": "code",
   "execution_count": 198,
   "metadata": {
    "collapsed": false
   },
   "outputs": [
    {
     "data": {
      "text/plain": [
       "{'bandwidth': 0.1,\n",
       " 'bin_seeding': False,\n",
       " 'cluster_all': True,\n",
       " 'min_bin_freq': 1,\n",
       " 'n_jobs': 1,\n",
       " 'seeds': None}"
      ]
     },
     "execution_count": 198,
     "metadata": {},
     "output_type": "execute_result"
    }
   ],
   "source": [
    "classifier.get_params()"
   ]
  },
  {
   "cell_type": "code",
   "execution_count": 199,
   "metadata": {
    "collapsed": false
   },
   "outputs": [],
   "source": [
    "labs = classifier.predict(coor)"
   ]
  },
  {
   "cell_type": "code",
   "execution_count": null,
   "metadata": {
    "collapsed": true
   },
   "outputs": [],
   "source": []
  },
  {
   "cell_type": "code",
   "execution_count": null,
   "metadata": {
    "collapsed": true
   },
   "outputs": [],
   "source": []
  },
  {
   "cell_type": "code",
   "execution_count": null,
   "metadata": {
    "collapsed": false,
    "scrolled": true
   },
   "outputs": [],
   "source": [
    "print coor"
   ]
  },
  {
   "cell_type": "code",
   "execution_count": 201,
   "metadata": {
    "collapsed": false
   },
   "outputs": [],
   "source": [
    "classes = list(set(labs))"
   ]
  },
  {
   "cell_type": "code",
   "execution_count": 202,
   "metadata": {
    "collapsed": false
   },
   "outputs": [
    {
     "name": "stdout",
     "output_type": "stream",
     "text": [
      "[[  3.37512770e+01  -1.18188740e+02]\n",
      " [  2.58677360e+01  -8.03241160e+01]\n",
      " [  5.15030160e+01  -7.54790000e-02]\n",
      " [  5.23788940e+01   4.88508400e+00]\n",
      " [  3.93664870e+01   1.17036146e+02]\n",
      " [ -3.38684570e+01   1.51205134e+02]]\n",
      "1\n"
     ]
    }
   ],
   "source": [
    "offices = np.array([33.751277, -118.188740, \n",
    "25.867736, -80.324116 ,\n",
    "51.503016, -0.075479, \n",
    "52.378894, 4.885084 ,\n",
    "39.366487, 117.036146,\n",
    "-33.868457, 151.205134])\n",
    "offices = np.array([offices[i::2]for i in [0,1]]).T\n",
    "print offices\n",
    "print labs[4]\n",
    "            #print 1/l(sum(np.asarray(cls.astype(float)^2)-o^2))"
   ]
  },
  {
   "cell_type": "code",
   "execution_count": 203,
   "metadata": {
    "collapsed": false
   },
   "outputs": [
    {
     "name": "stdout",
     "output_type": "stream",
     "text": [
      "[[  38.8951118  -77.0363658]\n",
      " [  33.800745   -84.41052  ]\n",
      " [  45.5234515 -122.6762071]\n",
      " ..., \n",
      " [  29.7628844  -95.3830615]\n",
      " [  32.802955   -96.769923 ]\n",
      " [  37.7749295 -122.4194155]]\n",
      "[[  38.8951118  -77.0363658]\n",
      " [  45.5234515 -122.6762071]\n",
      " [  33.4483771 -112.0740373]\n",
      " [  33.4483771 -112.0740373]\n",
      " [  33.4483771 -112.0740373]\n",
      " [  38.8951118  -77.0363658]]\n"
     ]
    }
   ],
   "source": [
    "from collections import Counter\n",
    "mp = np.array([])\n",
    "labs_f =  np.array(classes)[(np.array(Counter(labs).items()).T[1]>15)]\n",
    "i=0\n",
    "coor = np.array(coor.astype(float))\n",
    "clases = np.array([9,9])\n",
    "for l in labs :       \n",
    "        #print l, l in labs_f\n",
    "        if( l in labs_f):        \n",
    "            clases = np.vstack((clases,coor[i]))                \n",
    "        i=i+1\n",
    "clases = clases[1:]\n",
    "print clases\n",
    "print clases[[0,2,7,10,12,0]]\n",
    "#clases = coor[labs == np.array(classes)[(np.array(Counter(labs).items()).T[1]>14)]]"
   ]
  },
  {
   "cell_type": "code",
   "execution_count": 204,
   "metadata": {
    "collapsed": false
   },
   "outputs": [
    {
     "name": "stdout",
     "output_type": "stream",
     "text": [
      "[[array([  33.80987796, -118.14892381]) 0.0050194011900760883]\n",
      " [array([ 25.84567226, -80.3188906 ]) 0.00051411327615484234]\n",
      " [array([ 51.50299126,  -0.12553729]) 0.0025058328805651507]\n",
      " [array([ 52.37296399,   4.89231722]) 8.7484523675144147e-05]\n",
      " [array([  31.230393,  121.473704]) 85.887946580199667]\n",
      " [array([ -33.86063043,  151.20477593]) 6.1383435474385181e-05]]\n"
     ]
    }
   ],
   "source": [
    "centers = classifier.cluster_centers_[labs_f]\n",
    "near = np.array([0,0])\n",
    "for o in offices:\n",
    "        sums =  np.array([np.hstack((sum(np.power(o-c,2)),c)) for c in centers])\n",
    "        near = np.vstack(( near, [centers[np.argmin(sums[:,0])],np.min(sums[:,0])]))\n",
    "near = near[1:]\n",
    "print near \n",
    "f = open('01-classifier_result.txt', 'w')\n",
    "f.write(near[np.argmin(near[:,1])])\n",
    "f.close()"
   ]
  },
  {
   "cell_type": "code",
   "execution_count": null,
   "metadata": {
    "collapsed": false
   },
   "outputs": [],
   "source": [
    "centers = classifier.cluster_centers_[labs_f]\n",
    "near = np.array([0,0])\n",
    "for c in centers:\n",
    "\n",
    "        sums =  np.array([np.hstack((sum(np.power(o-c,2)),c)) for o in offices])\n",
    "        near = np.vstack(( near, [c,np.min(sums[:,0])]))\n",
    "near = near[1:]\n",
    "print near \n",
    "f = open('01-classifier_result.txt', 'w')\n",
    "f.write(near[np.argmin(near[:,1])])\n",
    "f.close()\n",
    "#near_s = np.sort(near[1])[:20]\n",
    "print centers[75]"
   ]
  },
  {
   "cell_type": "code",
   "execution_count": null,
   "metadata": {
    "collapsed": false
   },
   "outputs": [],
   "source": [
    "  print str(list(near.reshape(12))).translate(None,\"[,]\")"
   ]
  },
  {
   "cell_type": "code",
   "execution_count": null,
   "metadata": {
    "collapsed": false
   },
   "outputs": [],
   "source": [
    "print str(list(offices.reshape(12))).translate(None,\"[,]\")"
   ]
  },
  {
   "cell_type": "code",
   "execution_count": null,
   "metadata": {
    "collapsed": false
   },
   "outputs": [],
   "source": [
    "print str(list(centers)).translate(None,\"[,]\").replace(') array( ','\\n')[4:]"
   ]
  },
  {
   "cell_type": "code",
   "execution_count": null,
   "metadata": {
    "collapsed": true
   },
   "outputs": [],
   "source": []
  }
 ],
 "metadata": {
  "anaconda-cloud": {},
  "kernelspec": {
   "display_name": "Python [Root]",
   "language": "python",
   "name": "Python [Root]"
  },
  "language_info": {
   "codemirror_mode": {
    "name": "ipython",
    "version": 2
   },
   "file_extension": ".py",
   "mimetype": "text/x-python",
   "name": "python",
   "nbconvert_exporter": "python",
   "pygments_lexer": "ipython2",
   "version": "2.7.11"
  }
 },
 "nbformat": 4,
 "nbformat_minor": 0
}
