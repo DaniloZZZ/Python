{
 "cells": [
  {
   "cell_type": "code",
   "execution_count": 16,
   "metadata": {
    "collapsed": false,
    "deletable": true,
    "editable": true,
    "scrolled": true
   },
   "outputs": [],
   "source": [
    "import numpy as np\n",
    "import sklearn as sk\n",
    "import sklearn.preprocessing as pr\n",
    "import sklearn.manifold as mani\n",
    "import matplotlib.pyplot as plt\n",
    "import seaborn\n",
    "import pandas as pd\n",
    "\n",
    "import MyLib\n",
    "from MyLib import Data\n",
    "\n",
    "from sklearn.ensemble import RandomForestClassifier\n",
    "from sklearn.neural_network import MLPClassifier\n",
    "\n",
    "\n",
    "%matplotlib inline\n"
   ]
  },
  {
   "cell_type": "code",
   "execution_count": null,
   "metadata": {
    "collapsed": false,
    "deletable": true,
    "editable": true,
    "scrolled": true
   },
   "outputs": [],
   "source": []
  },
  {
   "cell_type": "markdown",
   "metadata": {
    "deletable": true,
    "editable": true
   },
   "source": [
    "# Reading files, creating Data object and scaling "
   ]
  },
  {
   "cell_type": "code",
   "execution_count": 17,
   "metadata": {
    "collapsed": false,
    "deletable": true,
    "editable": true,
    "scrolled": false
   },
   "outputs": [
    {
     "name": "stdout",
     "output_type": "stream",
     "text": [
      "((25289, 12), (25289,))\n"
     ]
    },
    {
     "data": {
      "text/html": [
       "<div>\n",
       "<table border=\"1\" class=\"dataframe\">\n",
       "  <thead>\n",
       "    <tr style=\"text-align: right;\">\n",
       "      <th></th>\n",
       "      <th>0</th>\n",
       "      <th>1</th>\n",
       "      <th>2</th>\n",
       "      <th>3</th>\n",
       "      <th>4</th>\n",
       "      <th>5</th>\n",
       "      <th>6</th>\n",
       "      <th>7</th>\n",
       "      <th>8</th>\n",
       "      <th>9</th>\n",
       "      <th>10</th>\n",
       "      <th>11</th>\n",
       "    </tr>\n",
       "  </thead>\n",
       "  <tbody>\n",
       "    <tr>\n",
       "      <th>count</th>\n",
       "      <td>2.528900e+04</td>\n",
       "      <td>2.528900e+04</td>\n",
       "      <td>2.528900e+04</td>\n",
       "      <td>2.528900e+04</td>\n",
       "      <td>2.528900e+04</td>\n",
       "      <td>2.528900e+04</td>\n",
       "      <td>2.528900e+04</td>\n",
       "      <td>2.528900e+04</td>\n",
       "      <td>2.528900e+04</td>\n",
       "      <td>2.528900e+04</td>\n",
       "      <td>2.528900e+04</td>\n",
       "      <td>2.528900e+04</td>\n",
       "    </tr>\n",
       "    <tr>\n",
       "      <th>mean</th>\n",
       "      <td>-9.496755e-17</td>\n",
       "      <td>1.362700e-17</td>\n",
       "      <td>2.577891e-17</td>\n",
       "      <td>-1.770105e-17</td>\n",
       "      <td>7.677480e-17</td>\n",
       "      <td>2.047562e-17</td>\n",
       "      <td>1.798202e-17</td>\n",
       "      <td>-7.192809e-17</td>\n",
       "      <td>-6.876719e-17</td>\n",
       "      <td>-7.136615e-17</td>\n",
       "      <td>-2.683255e-17</td>\n",
       "      <td>-9.328174e-17</td>\n",
       "    </tr>\n",
       "    <tr>\n",
       "      <th>std</th>\n",
       "      <td>1.000020e+00</td>\n",
       "      <td>1.000020e+00</td>\n",
       "      <td>1.000020e+00</td>\n",
       "      <td>1.000020e+00</td>\n",
       "      <td>1.000020e+00</td>\n",
       "      <td>1.000020e+00</td>\n",
       "      <td>1.000020e+00</td>\n",
       "      <td>1.000020e+00</td>\n",
       "      <td>1.000020e+00</td>\n",
       "      <td>1.000020e+00</td>\n",
       "      <td>1.000020e+00</td>\n",
       "      <td>1.000020e+00</td>\n",
       "    </tr>\n",
       "    <tr>\n",
       "      <th>min</th>\n",
       "      <td>-9.133637e-01</td>\n",
       "      <td>-8.787185e-01</td>\n",
       "      <td>-3.705914e-01</td>\n",
       "      <td>-6.461602e-01</td>\n",
       "      <td>-2.002443e+00</td>\n",
       "      <td>-4.240925e-01</td>\n",
       "      <td>-7.392115e-01</td>\n",
       "      <td>-1.330177e+00</td>\n",
       "      <td>-8.445122e-01</td>\n",
       "      <td>-9.853780e-01</td>\n",
       "      <td>-9.143458e-01</td>\n",
       "      <td>-6.238244e-01</td>\n",
       "    </tr>\n",
       "    <tr>\n",
       "      <th>25%</th>\n",
       "      <td>-7.150745e-01</td>\n",
       "      <td>-7.247733e-01</td>\n",
       "      <td>-3.705914e-01</td>\n",
       "      <td>-5.711457e-01</td>\n",
       "      <td>-7.406313e-01</td>\n",
       "      <td>-4.240925e-01</td>\n",
       "      <td>-7.392115e-01</td>\n",
       "      <td>-1.330177e+00</td>\n",
       "      <td>-7.030901e-01</td>\n",
       "      <td>-7.203942e-01</td>\n",
       "      <td>-7.102849e-01</td>\n",
       "      <td>-6.238244e-01</td>\n",
       "    </tr>\n",
       "    <tr>\n",
       "      <th>50%</th>\n",
       "      <td>-3.680686e-01</td>\n",
       "      <td>-3.399103e-01</td>\n",
       "      <td>-3.705914e-01</td>\n",
       "      <td>-3.711068e-01</td>\n",
       "      <td>1.840300e-01</td>\n",
       "      <td>-4.240925e-01</td>\n",
       "      <td>-4.375677e-01</td>\n",
       "      <td>2.094257e-01</td>\n",
       "      <td>-3.467531e-01</td>\n",
       "      <td>-2.941160e-01</td>\n",
       "      <td>-3.021630e-01</td>\n",
       "      <td>-6.238244e-01</td>\n",
       "    </tr>\n",
       "    <tr>\n",
       "      <th>75%</th>\n",
       "      <td>4.250878e-01</td>\n",
       "      <td>2.758705e-01</td>\n",
       "      <td>-7.501825e-02</td>\n",
       "      <td>1.039853e-01</td>\n",
       "      <td>6.593793e-01</td>\n",
       "      <td>-4.240925e-01</td>\n",
       "      <td>1.657198e-01</td>\n",
       "      <td>1.156873e+00</td>\n",
       "      <td>2.944777e-01</td>\n",
       "      <td>3.395409e-01</td>\n",
       "      <td>3.440299e-01</td>\n",
       "      <td>9.942581e-02</td>\n",
       "    </tr>\n",
       "    <tr>\n",
       "      <th>max</th>\n",
       "      <td>6.324189e+00</td>\n",
       "      <td>9.974418e+00</td>\n",
       "      <td>2.696993e+01</td>\n",
       "      <td>1.340657e+01</td>\n",
       "      <td>4.006186e+00</td>\n",
       "      <td>2.357976e+00</td>\n",
       "      <td>1.147736e+01</td>\n",
       "      <td>1.156873e+00</td>\n",
       "      <td>8.331237e+00</td>\n",
       "      <td>1.020155e+01</td>\n",
       "      <td>9.934893e+00</td>\n",
       "      <td>4.077302e+00</td>\n",
       "    </tr>\n",
       "  </tbody>\n",
       "</table>\n",
       "</div>"
      ],
      "text/plain": [
       "                 0             1             2             3             4   \\\n",
       "count  2.528900e+04  2.528900e+04  2.528900e+04  2.528900e+04  2.528900e+04   \n",
       "mean  -9.496755e-17  1.362700e-17  2.577891e-17 -1.770105e-17  7.677480e-17   \n",
       "std    1.000020e+00  1.000020e+00  1.000020e+00  1.000020e+00  1.000020e+00   \n",
       "min   -9.133637e-01 -8.787185e-01 -3.705914e-01 -6.461602e-01 -2.002443e+00   \n",
       "25%   -7.150745e-01 -7.247733e-01 -3.705914e-01 -5.711457e-01 -7.406313e-01   \n",
       "50%   -3.680686e-01 -3.399103e-01 -3.705914e-01 -3.711068e-01  1.840300e-01   \n",
       "75%    4.250878e-01  2.758705e-01 -7.501825e-02  1.039853e-01  6.593793e-01   \n",
       "max    6.324189e+00  9.974418e+00  2.696993e+01  1.340657e+01  4.006186e+00   \n",
       "\n",
       "                 5             6             7             8             9   \\\n",
       "count  2.528900e+04  2.528900e+04  2.528900e+04  2.528900e+04  2.528900e+04   \n",
       "mean   2.047562e-17  1.798202e-17 -7.192809e-17 -6.876719e-17 -7.136615e-17   \n",
       "std    1.000020e+00  1.000020e+00  1.000020e+00  1.000020e+00  1.000020e+00   \n",
       "min   -4.240925e-01 -7.392115e-01 -1.330177e+00 -8.445122e-01 -9.853780e-01   \n",
       "25%   -4.240925e-01 -7.392115e-01 -1.330177e+00 -7.030901e-01 -7.203942e-01   \n",
       "50%   -4.240925e-01 -4.375677e-01  2.094257e-01 -3.467531e-01 -2.941160e-01   \n",
       "75%   -4.240925e-01  1.657198e-01  1.156873e+00  2.944777e-01  3.395409e-01   \n",
       "max    2.357976e+00  1.147736e+01  1.156873e+00  8.331237e+00  1.020155e+01   \n",
       "\n",
       "                 10            11  \n",
       "count  2.528900e+04  2.528900e+04  \n",
       "mean  -2.683255e-17 -9.328174e-17  \n",
       "std    1.000020e+00  1.000020e+00  \n",
       "min   -9.143458e-01 -6.238244e-01  \n",
       "25%   -7.102849e-01 -6.238244e-01  \n",
       "50%   -3.021630e-01 -6.238244e-01  \n",
       "75%    3.440299e-01  9.942581e-02  \n",
       "max    9.934893e+00  4.077302e+00  "
      ]
     },
     "execution_count": 17,
     "metadata": {},
     "output_type": "execute_result"
    }
   ],
   "source": [
    "x_train = pd.read_csv('x_train.csv',sep=';')\n",
    "y_train = pd.read_csv('y_train.csv',sep=';',names=['value'])\n",
    "\n",
    "data = Data(x_train,y_train)\n",
    "data.scale()\n",
    "\n",
    "print data.shape\n",
    "data.describe()"
   ]
  },
  {
   "cell_type": "code",
   "execution_count": 18,
   "metadata": {
    "collapsed": false,
    "deletable": true,
    "editable": true
   },
   "outputs": [],
   "source": [
    "#Universal testing function\n",
    "def test_alg(algo,X=data.X,y=data.y,test_size = 0.2,desc = True):  \n",
    "        # X=X will use your global X defined above. \n",
    "        \n",
    "    x_train_, x_test_, y_train_, y_test_ = sk.model_selection.train_test_split(X,y,test_size=test_size)\n",
    "    #fitting the model\n",
    "    algo.fit(x_train_,y_train_)\n",
    "    y_pred = algo.predict_proba(x_test_)\n",
    "    #return log loss\n",
    "    metrics = sk.metrics.log_loss(y_test_,y_pred)\n",
    "    s= \"result: \"+str(metrics)\n",
    "    if desc:\n",
    "        s = s+\" \\n\\nAlgorithm info:\\n\"+str(algo)\n",
    "    print s\n",
    "    return algo\n",
    "\n",
    "def scor_logloss(estimator,X,y):\n",
    "    pr = estimator.predict_proba(X)\n",
    "    return sk.metrics.log_loss(y,pr)\n",
    "\n",
    "def test_alg_cv(algo,X=data.X,y=data.y,test_size = 0.2,desc = False,cv=5):  \n",
    "    # X=X will use your global X defined above. \n",
    "    #return log loss\n",
    "    cv_score = sk.model_selection.cross_val_score(algo,X,y,scoring=scor_logloss,cv=cv)\n",
    "    s= \"result: \"+str(cv_score.mean())+\" std:\"+str(np.std(cv_score))\n",
    "    if desc:\n",
    "        s = s+\" \\n\\nAlgorithm info:\\n\"+str(algo)\n",
    "    print s\n",
    "    return algo,cv_score,cv_score.mean()"
   ]
  },
  {
   "cell_type": "code",
   "execution_count": 5,
   "metadata": {
    "collapsed": false,
    "deletable": true,
    "editable": true,
    "scrolled": true
   },
   "outputs": [
    {
     "name": "stdout",
     "output_type": "stream",
     "text": [
      "((25289, 1), (25289,)) ((25289, 12), (25289,))\n",
      "result: 0.515983142807 \n",
      "\n",
      "Algorithm info:\n",
      "RandomForestClassifier(bootstrap=True, class_weight=None, criterion='entropy',\n",
      "            max_depth=4, max_features='auto', max_leaf_nodes=None,\n",
      "            min_impurity_split=1e-07, min_samples_leaf=1,\n",
      "            min_samples_split=2, min_weight_fraction_leaf=0.0,\n",
      "            n_estimators=100, n_jobs=1, oob_score=False, random_state=None,\n",
      "            verbose=0, warm_start=False)\n"
     ]
    },
    {
     "data": {
      "text/plain": [
       "RandomForestClassifier(bootstrap=True, class_weight=None, criterion='entropy',\n",
       "            max_depth=4, max_features='auto', max_leaf_nodes=None,\n",
       "            min_impurity_split=1e-07, min_samples_leaf=1,\n",
       "            min_samples_split=2, min_weight_fraction_leaf=0.0,\n",
       "            n_estimators=100, n_jobs=1, oob_score=False, random_state=None,\n",
       "            verbose=0, warm_start=False)"
      ]
     },
     "execution_count": 5,
     "metadata": {},
     "output_type": "execute_result"
    }
   ],
   "source": [
    "\n",
    "Forest = RandomForestClassifier(n_estimators=100,max_depth=4,criterion='entropy')\n",
    "\n",
    "droped = Data(np.delete(data.X,[0,1,3,4,5,6,7,8,9,10,11],1),data.y)\n",
    "droped.shuffle()\n",
    "print droped.shape,data.shape\n",
    "#a = data.X[:,0].reshape(25289,1)\n",
    "test_alg(Forest,X=droped.X,y=droped.y)"
   ]
  },
  {
   "cell_type": "code",
   "execution_count": 6,
   "metadata": {
    "collapsed": false,
    "deletable": true,
    "editable": true,
    "scrolled": true
   },
   "outputs": [
    {
     "name": "stdout",
     "output_type": "stream",
     "text": [
      "result: 0.398186816033 \n",
      "\n",
      "Algorithm info:\n",
      "RandomForestClassifier(bootstrap=True, class_weight=None, criterion='entropy',\n",
      "            max_depth=4, max_features='auto', max_leaf_nodes=None,\n",
      "            min_impurity_split=1e-07, min_samples_leaf=1,\n",
      "            min_samples_split=2, min_weight_fraction_leaf=0.0,\n",
      "            n_estimators=100, n_jobs=1, oob_score=False, random_state=None,\n",
      "            verbose=0, warm_start=False)\n",
      "result: 0.517529187421 \n",
      "\n",
      "Algorithm info:\n",
      "RandomForestClassifier(bootstrap=True, class_weight=None, criterion='entropy',\n",
      "            max_depth=4, max_features='auto', max_leaf_nodes=None,\n",
      "            min_impurity_split=1e-07, min_samples_leaf=1,\n",
      "            min_samples_split=2, min_weight_fraction_leaf=0.0,\n",
      "            n_estimators=100, n_jobs=1, oob_score=False, random_state=None,\n",
      "            verbose=0, warm_start=False)\n",
      "((25289, 1), (25289,))\n"
     ]
    },
    {
     "ename": "IndexError",
     "evalue": "index 1 is out of bounds for axis 1 with size 1",
     "output_type": "error",
     "traceback": [
      "\u001b[0;31m---------------------------------------------------------------------------\u001b[0m",
      "\u001b[0;31mIndexError\u001b[0m                                Traceback (most recent call last)",
      "\u001b[0;32m<ipython-input-6-8b9fe0991bb4>\u001b[0m in \u001b[0;36m<module>\u001b[0;34m()\u001b[0m\n\u001b[1;32m     13\u001b[0m \u001b[0;32mprint\u001b[0m \u001b[0mdroped_p\u001b[0m\u001b[0;34m.\u001b[0m\u001b[0mshape\u001b[0m\u001b[0;34m\u001b[0m\u001b[0m\n\u001b[1;32m     14\u001b[0m \u001b[0mplt\u001b[0m\u001b[0;34m.\u001b[0m\u001b[0msubplot\u001b[0m\u001b[0;34m(\u001b[0m\u001b[0;36m221\u001b[0m\u001b[0;34m)\u001b[0m\u001b[0;34m\u001b[0m\u001b[0m\n\u001b[0;32m---> 15\u001b[0;31m \u001b[0mdroped_p\u001b[0m\u001b[0;34m.\u001b[0m\u001b[0mplot_scatter\u001b[0m\u001b[0;34m(\u001b[0m\u001b[0;36m0\u001b[0m\u001b[0;34m,\u001b[0m\u001b[0;36m1\u001b[0m\u001b[0;34m,\u001b[0m\u001b[0malpha\u001b[0m\u001b[0;34m=\u001b[0m\u001b[0;36m0.1\u001b[0m\u001b[0;34m)\u001b[0m\u001b[0;34m\u001b[0m\u001b[0m\n\u001b[0m\u001b[1;32m     16\u001b[0m \u001b[0mplt\u001b[0m\u001b[0;34m.\u001b[0m\u001b[0msubplot\u001b[0m\u001b[0;34m(\u001b[0m\u001b[0;36m222\u001b[0m\u001b[0;34m)\u001b[0m\u001b[0;34m\u001b[0m\u001b[0m\n\u001b[1;32m     17\u001b[0m \u001b[0mdata_p\u001b[0m\u001b[0;34m.\u001b[0m\u001b[0mplot_scatter\u001b[0m\u001b[0;34m(\u001b[0m\u001b[0mfich_number1\u001b[0m\u001b[0;34m,\u001b[0m\u001b[0mfich_number2\u001b[0m\u001b[0;34m,\u001b[0m\u001b[0malpha\u001b[0m\u001b[0;34m=\u001b[0m\u001b[0;36m0.1\u001b[0m\u001b[0;34m)\u001b[0m\u001b[0;34m\u001b[0m\u001b[0m\n",
      "\u001b[0;32m/home/jesse/Documents/Python/MyLib.py\u001b[0m in \u001b[0;36mplot_scatter\u001b[0;34m(self, a, b, alpha)\u001b[0m\n\u001b[1;32m     77\u001b[0m     \u001b[0;32mdef\u001b[0m \u001b[0mplot_scatter\u001b[0m\u001b[0;34m(\u001b[0m\u001b[0mself\u001b[0m\u001b[0;34m,\u001b[0m\u001b[0ma\u001b[0m\u001b[0;34m=\u001b[0m\u001b[0;36m0\u001b[0m\u001b[0;34m,\u001b[0m\u001b[0mb\u001b[0m\u001b[0;34m=\u001b[0m\u001b[0;36m1\u001b[0m\u001b[0;34m,\u001b[0m\u001b[0malpha\u001b[0m\u001b[0;34m=\u001b[0m \u001b[0;36m0.5\u001b[0m\u001b[0;34m)\u001b[0m\u001b[0;34m:\u001b[0m\u001b[0;34m\u001b[0m\u001b[0m\n\u001b[1;32m     78\u001b[0m         \u001b[0mx\u001b[0m\u001b[0;34m=\u001b[0m \u001b[0mself\u001b[0m\u001b[0;34m.\u001b[0m\u001b[0mX\u001b[0m\u001b[0;34m[\u001b[0m\u001b[0;34m:\u001b[0m\u001b[0;34m,\u001b[0m\u001b[0ma\u001b[0m\u001b[0;34m]\u001b[0m\u001b[0;34m\u001b[0m\u001b[0m\n\u001b[0;32m---> 79\u001b[0;31m         \u001b[0my\u001b[0m \u001b[0;34m=\u001b[0m \u001b[0mself\u001b[0m\u001b[0;34m.\u001b[0m\u001b[0mX\u001b[0m\u001b[0;34m[\u001b[0m\u001b[0;34m:\u001b[0m\u001b[0;34m,\u001b[0m\u001b[0mb\u001b[0m\u001b[0;34m]\u001b[0m\u001b[0;34m\u001b[0m\u001b[0m\n\u001b[0m\u001b[1;32m     80\u001b[0m         \u001b[0mself\u001b[0m\u001b[0;34m.\u001b[0m\u001b[0mscatter\u001b[0m\u001b[0;34m(\u001b[0m\u001b[0mx\u001b[0m\u001b[0;34m,\u001b[0m\u001b[0my\u001b[0m\u001b[0;34m,\u001b[0m\u001b[0ms\u001b[0m\u001b[0;34m=\u001b[0m\u001b[0;36m5\u001b[0m\u001b[0;34m,\u001b[0m\u001b[0mc\u001b[0m\u001b[0;34m=\u001b[0m\u001b[0mself\u001b[0m\u001b[0;34m.\u001b[0m\u001b[0my\u001b[0m\u001b[0;34m,\u001b[0m\u001b[0mcmap\u001b[0m\u001b[0;34m=\u001b[0m\u001b[0;34m'RdYlGn'\u001b[0m\u001b[0;34m,\u001b[0m\u001b[0malpha\u001b[0m\u001b[0;34m=\u001b[0m\u001b[0malpha\u001b[0m\u001b[0;34m,\u001b[0m\u001b[0medgecolors\u001b[0m\u001b[0;34m=\u001b[0m\u001b[0;34m'face'\u001b[0m\u001b[0;34m)\u001b[0m\u001b[0;34m\u001b[0m\u001b[0m\n\u001b[1;32m     81\u001b[0m \u001b[0;34m\u001b[0m\u001b[0m\n",
      "\u001b[0;31mIndexError\u001b[0m: index 1 is out of bounds for axis 1 with size 1"
     ]
    },
    {
     "data": {
      "image/png": "[encoded data removed]",
      "text/plain": [
       "<matplotlib.figure.Figure at 0x7f1c358e4510>"
      ]
     },
     "metadata": {},
     "output_type": "display_data"
    }
   ],
   "source": [
    "plt.figure(figsize=(20,15))\n",
    "fich_number1 =3\n",
    "fich_number2 = 6\n",
    "\n",
    "f = test_alg(Forest)\n",
    "p = f.predict_proba(data.X)[:,1]\n",
    "data_p=Data(data.X,p)\n",
    "\n",
    "d = test_alg(Forest,X=droped.X,y=droped.y)\n",
    "p_d = d.predict_proba(droped.X)[:,1]\n",
    "droped_p=Data(droped.X,p_d)\n",
    "\n",
    "print droped_p.shape\n",
    "plt.subplot(221)\n",
    "droped_p.plot_scatter(0,1,alpha=0.1)\n",
    "plt.subplot(222)\n",
    "data_p.plot_scatter(fich_number1,fich_number2,alpha=0.1)\n",
    "plt.subplot(223)\n",
    "data.plot_scatter(fich_number1,fich_number2,alpha=0.1)"
   ]
  },
  {
   "cell_type": "code",
   "execution_count": 7,
   "metadata": {
    "collapsed": false,
    "deletable": true,
    "editable": true,
    "scrolled": true
   },
   "outputs": [
    {
     "data": {
      "text/plain": [
       "(25289, 1)"
      ]
     },
     "execution_count": 7,
     "metadata": {},
     "output_type": "execute_result"
    }
   ],
   "source": [
    "droped.X.shape\n",
    "#data.plot_hist(0)"
   ]
  },
  {
   "cell_type": "markdown",
   "metadata": {},
   "source": [
    "#### estimating feature benefit by training forest without it"
   ]
  },
  {
   "cell_type": "code",
   "execution_count": 477,
   "metadata": {
    "collapsed": true,
    "deletable": true,
    "editable": true
   },
   "outputs": [
    {
     "name": "stdout",
     "output_type": "stream",
     "text": [
      "(25289, 1) (25289,)\n",
      "result: 0.4236858656430.00607342539705\n",
      "without 0 maxPlayerLevel\n",
      "(25289, 1) (25289,)\n",
      "result: 0.4740497462970.00606105715747\n",
      "without 1 numberOfAttemptedLevels\n",
      "(25289, 1) (25289,)\n",
      "result: 0.5147399546440.00354814970593\n",
      "without 2 attemptsOnTheHighestLevel\n",
      "(25289, 1) (25289,)\n",
      "result: 0.4118131400090.00708371041247\n",
      "without 3 totalNumOfAttempts\n",
      "(25289, 1) (25289,)\n",
      "result: 0.4425874273030.00583012358698\n",
      "without 4 averageNumOfTurnsPerCompletedLevel\n",
      "(25289, 1) (25289,)\n",
      "result: 0.5789901070060.00275894236773\n",
      "without 5 doReturnOnLowerLevels\n",
      "(25289, 1) (25289,)\n",
      "result: 0.4553699795120.00768935327116\n",
      "without 6 numberOfBoostersUsed\n",
      "(25289, 1) (25289,)\n",
      "result: 0.4956178708870.00730645496357\n",
      "without 7 fractionOfUsefullBoosters\n",
      "(25289, 1) (25289,)\n",
      "result: 0.4839525936850.00476678777355\n",
      "without 8 totalScore\n",
      "(25289, 1) (25289,)\n",
      "result: 0.4911068166380.00371947098691\n",
      "without 9 totalBonusScore\n",
      "(25289, 1) (25289,)\n",
      "result: 0.4868619743540.00493743604681\n",
      "without 10 totalStarsCount\n",
      "(25289, 1) (25289,)\n",
      "result: 0.4041433446080.00946230179615\n",
      "without 11 numberOfDaysActuallyPlayed\n"
     ]
    }
   ],
   "source": [
    "Forest = RandomForestClassifier(n_estimators=100,max_depth=4,criterion='entropy')\n",
    "for i in range(12):\n",
    "    #a = np.delete(range(12),i)\n",
    "    x = data.X[:,i].reshape(25289,1)\n",
    "    print x.shape,data.y.shape\n",
    "    \n",
    "    test_alg_cv(Forest,X = x,y=data.y,desc=False)\n",
    "    print \"without\",i,data.keys[i]"
   ]
  },
  {
   "cell_type": "code",
   "execution_count": 8,
   "metadata": {
    "collapsed": false,
    "deletable": true,
    "editable": true
   },
   "outputs": [
    {
     "name": "stdout",
     "output_type": "stream",
     "text": [
      "result: 0.388791055481 std:0.00818863058491\n"
     ]
    },
    {
     "data": {
      "text/plain": [
       "(RandomForestClassifier(bootstrap=True, class_weight=None, criterion='entropy',\n",
       "             max_depth=4, max_features='auto', max_leaf_nodes=None,\n",
       "             min_impurity_split=1e-07, min_samples_leaf=1,\n",
       "             min_samples_split=2, min_weight_fraction_leaf=0.0,\n",
       "             n_estimators=100, n_jobs=1, oob_score=False, random_state=None,\n",
       "             verbose=0, warm_start=False),\n",
       " array([ 0.39467498,  0.3839884 ,  0.38249382,  0.40198969,  0.38080838]),\n",
       " 0.38879105548059539)"
      ]
     },
     "execution_count": 8,
     "metadata": {},
     "output_type": "execute_result"
    }
   ],
   "source": [
    "test_alg_cv(Forest,desc =False)"
   ]
  },
  {
   "cell_type": "markdown",
   "metadata": {},
   "source": [
    "#### Taiga is mand made stacking of forests"
   ]
  },
  {
   "cell_type": "code",
   "execution_count": 9,
   "metadata": {
    "collapsed": false,
    "deletable": true,
    "editable": true
   },
   "outputs": [],
   "source": [
    "def print_r(s):\n",
    "    sys.stdout.write('\\r')\n",
    "    sys.stdout.flush()\n",
    "    sys.stdout.write(s)\n",
    "import copy \n",
    "import sys\n",
    "class Taiga:\n",
    "    def __init__(self,Forest):\n",
    "        self.clf = Forest\n",
    "        self.meta_clf = Forest\n",
    "        \n",
    "    def fit(self,X,y):\n",
    "        print \"fitting model\"\n",
    "        print '.'\n",
    "        meta_features = []\n",
    "        self.forests = []\n",
    "        main = self.clf\n",
    "        self.meta_num_f =12\n",
    "        for i in range(self.meta_num_f):\n",
    "                f = copy.deepcopy(main)\n",
    "                x = X[:,[i]]\n",
    "                \n",
    "                x = np.concatenate([x,np.log(1+np.abs(x))],axis=1)\n",
    "                x=x.reshape(len(x),2)\n",
    "                f.fit(x,y)\n",
    "                self.forests.append(f)\n",
    "                \n",
    "                preds = np.asarray(f.predict_proba(x)[:,1])\n",
    "                meta_features.append(preds)\n",
    "                \n",
    "                print sk.metrics.log_loss(y,y_pred=preds), \"mean=\",x.mean()\n",
    "                print_r(str(i))\n",
    "                \n",
    "                print preds,preds.shape\n",
    "                \n",
    "        meta_features = np.asarray(meta_features).reshape(len(y),self.meta_num_f)\n",
    "        print meta_features.shape, X.shape\n",
    "        meta_features = np.concatenate([meta_features],axis = 1)\n",
    "        self.meta_f = meta_features\n",
    "        meta = self.meta_clf\n",
    "        meta.fit(meta_features,y)\n",
    "        self.meta_clf = meta;\n",
    "        \n",
    "    def predict_proba(self,X):\n",
    "        i=0\n",
    "        preds = []\n",
    "        for f in self.forests:\n",
    "            x= X[:,[i]]\n",
    "            x = np.concatenate([x,np.log(1+np.abs(x))],axis=1)\n",
    "            x=x.reshape((x).shape[0],2)\n",
    "            pr = f.predict_proba(x)[:,1]\n",
    "            preds.append(pr)\n",
    "            print_r(str(i))\n",
    "            i=i+1\n",
    "        preds = np.asarray(preds).reshape(x.shape[0],self.meta_num_f)\n",
    "        preds = np.zeros(preds.shape)\n",
    "        preds = np.concatenate([preds],axis =1)\n",
    "        return self.meta_clf.predict_proba(preds)"
   ]
  },
  {
   "cell_type": "code",
   "execution_count": 454,
   "metadata": {
    "collapsed": false,
    "deletable": true,
    "editable": true,
    "scrolled": true
   },
   "outputs": [],
   "source": [
    "taiga  = Taiga(Forest)\n",
    "taiga.meta_clf = RandomForestClassifier(n_estimators=40,max_depth=4)\n",
    "#test_alg(taiga)"
   ]
  },
  {
   "cell_type": "code",
   "execution_count": 455,
   "metadata": {
    "collapsed": true,
    "deletable": true,
    "editable": true
   },
   "outputs": [
    {
     "name": "stdout",
     "output_type": "stream",
     "text": [
      "fitting model\n",
      ".\n",
      "0.419766983817 mean= 0.259946738998\n",
      "0[ 0.66603398  0.46646738  0.06975133 ...,  0.08122547  0.6387711   0.0209627 ] (25289,)\n",
      "0.471304882814 mean= 0.243879164014\n",
      "1[ 0.21190114  0.50763912  0.12538844 ...,  0.14992934  0.07221016\n",
      "  0.07338424] (25289,)\n",
      "0.513074165602 mean= 0.169755090851\n",
      "2[ 0.39617811  0.71901425  0.14519157 ...,  0.32229692  0.14519157\n",
      "  0.14519157] (25289,)\n",
      "0.405884754333 mean= 0.220307796735\n",
      "3[ 0.17746104  0.62909178  0.09021165 ...,  0.12034594  0.03691172\n",
      "  0.03732242] (25289,)\n",
      "0.375549707571 mean= 0.27824535304\n",
      "4[ 0.57392857  1.          0.10065724 ...,  0.09478478  0.47316455\n",
      "  0.0088979 ] (25289,)\n",
      "0.578945673848 mean= 0.242148243534\n",
      "5[ 0.52347339  0.52347339  0.24747166 ...,  0.24747166  0.52347339\n",
      "  0.24747166] (25289,)\n",
      "0.454052727764 mean= 0.238320795698\n",
      "6[ 0.34697502  0.41547878  0.12514724 ...,  0.17238885  0.12514724\n",
      "  0.05073685] (25289,)\n",
      "0.473658260336 mean= 0.301126909461\n",
      "7[ 0.60946254  0.48793769  0.16002261 ...,  0.35631431  0.16002261\n",
      "  0.08612751] (25289,)\n",
      "0.330429179042 mean= 0.242809380627\n",
      "8[ 0.23333333  1.          0.14358586 ...,  0.20202381  0.29166667\n",
      "  0.03975523] (25289,)\n",
      "0.467108960135 mean= 0.243406036802\n",
      "9[ 0.17557184  0.62581581  0.08378384 ...,  0.17557184  0.21858133\n",
      "  0.03878855] (25289,)\n",
      "0.479721739216 mean= 0.24586121413\n",
      "10[ 0.27176727  0.55930874  0.15359161 ...,  0.19196307  0.34016161\n",
      "  0.05062866] (25289,)\n",
      "0.403349313039 mean= 0.249744470175\n",
      "11[ 0.26244363  0.58970925  0.06875392 ...,  0.06875392  0.06875392\n",
      "  0.06875392] (25289,)\n",
      "(25289, 12) (25289, 12)\n"
     ]
    }
   ],
   "source": [
    "taiga.fit(data.X,data.y)"
   ]
  },
  {
   "cell_type": "code",
   "execution_count": 456,
   "metadata": {
    "collapsed": false,
    "deletable": true,
    "editable": true
   },
   "outputs": [
    {
     "name": "stdout",
     "output_type": "stream",
     "text": [
      "(25289, 12)\n"
     ]
    }
   ],
   "source": [
    "print taiga.meta_f.shape\n",
    "data_meta=Data(taiga.meta_f,data.y)"
   ]
  },
  {
   "cell_type": "code",
   "execution_count": 457,
   "metadata": {
    "collapsed": false,
    "deletable": true,
    "editable": true
   },
   "outputs": [
    {
     "name": "stdout",
     "output_type": "stream",
     "text": [
      "11"
     ]
    },
    {
     "data": {
      "text/plain": [
       "0.61141288124927262"
      ]
     },
     "execution_count": 457,
     "metadata": {},
     "output_type": "execute_result"
    }
   ],
   "source": [
    "r = taiga.predict_proba(data.X)\n",
    "sk.metrics.log_loss(data.y,r)"
   ]
  },
  {
   "cell_type": "code",
   "execution_count": 29,
   "metadata": {
    "collapsed": false,
    "deletable": true,
    "editable": true,
    "scrolled": true
   },
   "outputs": [
    {
     "name": "stdout",
     "output_type": "stream",
     "text": [
      "       maxPlayerLevel  numberOfAttemptedLevels  attemptsOnTheHighestLevel  \\\n",
      "count    25289.000000             25289.000000               25289.000000   \n",
      "mean        18.424888                12.415991                   3.507612   \n",
      "std         20.172964                12.991894                   6.766648   \n",
      "min          0.000000                 1.000000                   1.000000   \n",
      "25%          4.000000                 3.000000                   1.000000   \n",
      "50%         11.000000                 8.000000                   1.000000   \n",
      "75%         27.000000                16.000000                   3.000000   \n",
      "max        146.000000               142.000000                 186.000000   \n",
      "\n",
      "       totalNumOfAttempts  averageNumOfTurnsPerCompletedLevel  \\\n",
      "count        25289.000000                        25289.000000   \n",
      "mean            26.841393                           13.330451   \n",
      "std             39.993029                            6.657224   \n",
      "min              1.000000                            0.000000   \n",
      "25%              4.000000                            8.400000   \n",
      "50%             12.000000                           14.555556   \n",
      "75%             31.000000                           17.720000   \n",
      "max            563.000000                           40.000000   \n",
      "\n",
      "       doReturnOnLowerLevels  numberOfBoostersUsed  fractionOfUsefullBoosters  \\\n",
      "count           25289.000000          25289.000000               25289.000000   \n",
      "mean                0.152438              4.901222                   0.534841   \n",
      "std                 0.359452              6.630469                   0.402091   \n",
      "min                 0.000000              0.000000                   0.000000   \n",
      "25%                 0.000000              0.000000                   0.000000   \n",
      "50%                 0.000000              2.000000                   0.619048   \n",
      "75%                 0.000000              6.000000                   1.000000   \n",
      "max                 1.000000             81.000000                   1.000000   \n",
      "\n",
      "         totalScore  totalBonusScore  totalStarsCount  \\\n",
      "count  2.528900e+04     25289.000000     25289.000000   \n",
      "mean   2.884268e+06      2138.215232        26.884495   \n",
      "std    3.415374e+06      2169.987109        29.403565   \n",
      "min    0.000000e+00         0.000000         0.000000   \n",
      "25%    4.830000e+05       575.000000         6.000000   \n",
      "50%    1.700000e+06      1500.000000        18.000000   \n",
      "75%    3.890000e+06      2875.000000        37.000000   \n",
      "max    3.133800e+07     24275.000000       319.000000   \n",
      "\n",
      "       numberOfDaysActuallyPlayed  bonus_in_overall  score_per_day  \\\n",
      "count                25289.000000      25289.000000   2.528900e+04   \n",
      "mean                     2.725058          0.000994   1.161169e+06   \n",
      "std                      2.765350          0.000499   1.041054e+06   \n",
      "min                      1.000000          0.000000   0.000000e+00   \n",
      "25%                      1.000000          0.000686   3.300000e+05   \n",
      "50%                      1.000000          0.000835   9.517500e+05   \n",
      "75%                      3.000000          0.001147   1.667333e+06   \n",
      "max                     14.000000          0.002212   1.289100e+07   \n",
      "\n",
      "       star_in_bonus    top_to_all   avg_attemps  \n",
      "count   25289.000000  25289.000000  25289.000000  \n",
      "mean        0.022782      0.290756      0.724828  \n",
      "std         0.229532      0.303691      0.276614  \n",
      "min         0.000000      0.003356      0.007463  \n",
      "25%         0.009557      0.083333      0.500000  \n",
      "50%         0.012295      0.166667      0.777778  \n",
      "75%         0.013191      0.333333      1.000000  \n",
      "max        12.000000      1.000000      1.000000  \n"
     ]
    },
    {
     "data": {
      "text/plain": [
       "array([[ 1.01995513, -0.18596511, -0.07501825, ..., -0.03276268,\n",
       "        -0.37633043, -0.49381219],\n",
       "       [ 0.12765415,  0.73770604,  2.2895672 , ..., -0.04117901,\n",
       "         0.18011458, -1.17432423],\n",
       "       [-0.66550227, -0.49385549, -0.37059143, ..., -0.04626124,\n",
       "        -0.40861363,  0.99480788],\n",
       "       ..., \n",
       "       [-0.61593   , -0.4168829 , -0.22280484, ..., -0.04859399,\n",
       "        -0.22567549,  0.19142562],\n",
       "       [ 1.81311155, -0.87871847, -0.37059143, ...,  4.25752167,\n",
       "         2.33545853,  0.99480788],\n",
       "       [-0.86379138, -0.80174588, -0.37059143, ..., -0.07316569,\n",
       "         0.68901523,  0.99480788]])"
      ]
     },
     "execution_count": 29,
     "metadata": {},
     "output_type": "execute_result"
    }
   ],
   "source": [
    "df = data.df_X\n",
    "def gen_new_features(df):\n",
    "    x_train = df\n",
    "    df['bonus_in_overall']=  x_train['totalBonusScore']/(1+x_train['totalScore'])\n",
    "    df['score_per_day'] = x_train['totalScore']/x_train['numberOfDaysActuallyPlayed']\n",
    "    df['star_in_bonus'] = x_train['totalStarsCount']/(1 + x_train['totalBonusScore'])\n",
    "    df['top_to_all'] =x_train['attemptsOnTheHighestLevel']/x_train['totalNumOfAttempts']\n",
    "    df['avg_attemps'] =x_train['numberOfAttemptedLevels']/x_train['totalNumOfAttempts']\n",
    "    return df\n",
    "def gen_log_features_fordata(data_side):\n",
    "    data_log = data_side.log_x()\n",
    "    X  = np.concatenate((data_log.X,data_side.X),axis = 1)\n",
    "    return Data(X,data.y)\n",
    "def get_brute_features(data):\n",
    "    DF  = pd.read_csv('new_features.csv',header=None)\n",
    "    return Data(DF,data.y)\n",
    "\n",
    "brut_data = get_brute_features(data)\n",
    "\n",
    "data_side = Data(gen_new_features(df),data.y)\n",
    "print data_side.describe()\n",
    "data_side.scale()"
   ]
  },
  {
   "cell_type": "code",
   "execution_count": 32,
   "metadata": {
    "collapsed": false
   },
   "outputs": [
    {
     "name": "stdout",
     "output_type": "stream",
     "text": [
      "plot for 2\n",
      "plot for 3\n",
      "plot for 4\n",
      "plot for 5\n"
     ]
    },
    {
     "data": {
      "image/png": "[encoded data removed]",
      "text/plain": [
       "<matplotlib.figure.Figure at 0x7fbac7a4d810>"
      ]
     },
     "metadata": {},
     "output_type": "display_data"
    }
   ],
   "source": [
    "plt.figure(figsize=(16,12))\n",
    "plt.subplot(221)\n",
    "brut_data.plot_hist(2,bins=100)\n",
    "plt.subplot(222)\n",
    "brut_data.plot_hist(3,bins=100)\n",
    "plt.subplot(223)\n",
    "brut_data.plot_hist(4,bins=100)\n",
    "plt.subplot(224)\n",
    "brut_data.plot_hist(5,bins=100)"
   ]
  },
  {
   "cell_type": "code",
   "execution_count": 22,
   "metadata": {
    "collapsed": false,
    "deletable": true,
    "editable": true
   },
   "outputs": [
    {
     "name": "stdout",
     "output_type": "stream",
     "text": [
      "plot for bonus_in_overall\n",
      "plot for score_per_day\n",
      "plot for star_in_bonus\n",
      "plot for top_to_all\n"
     ]
    },
    {
     "data": {
      "image/png": "[encoded data removed]",
      "text/plain": [
       "<matplotlib.figure.Figure at 0x7fbac4fcdcd0>"
      ]
     },
     "metadata": {},
     "output_type": "display_data"
    }
   ],
   "source": [
    "plt.figure(figsize=(16,12))\n",
    "plt.subplot(221)\n",
    "data_side.plot_hist(12,bins=100)\n",
    "plt.subplot(222)\n",
    "data_side.plot_hist(13,bins=100)\n",
    "plt.subplot(223)\n",
    "data_side.plot_hist(14,bins=100)\n",
    "plt.subplot(224)\n",
    "data_side.plot_hist(15,bins=100)"
   ]
  },
  {
   "cell_type": "code",
   "execution_count": 11,
   "metadata": {
    "collapsed": false,
    "deletable": true,
    "editable": true
   },
   "outputs": [
    {
     "name": "stdout",
     "output_type": "stream",
     "text": [
      "MLP with new without 1,8,10:\n",
      "result: 0.384766021948 std:0.00878871563407\n",
      "\n",
      "MLP without 1,8,10:\n",
      "result: 0.38503743952 std:0.00888017894453\n",
      "MLP with side:\n",
      "result: 0.385177126306 std:0.00747914238559\n",
      "MLP with full\n",
      "result: 0.386491824477 std:0.00702613138141\n",
      "delta: -0.00131469817118\n",
      "----\n",
      "Forest with new without 1,8,10:\n",
      "result: 0.384388277467 std:0.00813832511377\n",
      "\n",
      "Forest without 1,8,10:\n",
      "result: 0.391078711131 std:0.00705594524396\n",
      "Forest with_side:\n",
      "result: 0.391936117576 std:0.00666731180211\n",
      "Forest with full\n",
      "result: 0.393808178232 std:0.00591713925564\n",
      "delta: -0.00187206065607\n"
     ]
    }
   ],
   "source": [
    "MLP = MLPClassifier(hidden_layer_sizes=(15,1))\n",
    "Forest = RandomForestClassifier(n_estimators=50,max_depth=3)\n",
    "\n",
    "a = np.delete(range(12),[1,8,10])\n",
    "b = np.delete(range(17),[1,8,10])\n",
    "\n",
    "cv=4\n",
    "print \"MLP with new without 1,8,10:\"\n",
    "_,_,s1 =test_alg_cv(MLP,X=data_side.X[:,b])\n",
    "print \"\\nMLP without 1,8,10:\"\n",
    "_,_,s1 =test_alg_cv(MLP,X=data.X[:,a])\n",
    "print \"MLP with side:\"\n",
    "_,_,s1 =test_alg_cv(MLP,X=data_side.X,cv=cv)\n",
    "print \"MLP with full\"\n",
    "_,_,s2 =test_alg_cv(MLP,cv=cv)\n",
    "print \"delta:\",s1-s2\n",
    "\n",
    "print \"----\"\n",
    "\n",
    "print \"Forest with new without 1,8,10:\"\n",
    "_,_,s1 =test_alg_cv(MLP,X=data_side.X[:,b])\n",
    "print \"\\nForest without 1,8,10:\"\n",
    "_,_,s1=test_alg_cv(Forest,X = data.X[:,a])\n",
    "print \"Forest with_side:\"\n",
    "_,_,s1=test_alg_cv(Forest,X = data_side.X,cv=cv)\n",
    "print \"Forest with full\"\n",
    "_,_,s2=test_alg_cv(Forest,cv=cv)\n",
    "print \"delta:\",s1-s2"
   ]
  },
  {
   "cell_type": "markdown",
   "metadata": {
    "deletable": true,
    "editable": true
   },
   "source": [
    "## Grid Searching for params"
   ]
  },
  {
   "cell_type": "code",
   "execution_count": 13,
   "metadata": {
    "collapsed": true,
    "deletable": true,
    "editable": true
   },
   "outputs": [],
   "source": [
    "from sklearn import svm\n",
    "from sklearn.model_selection import GridSearchCV"
   ]
  },
  {
   "cell_type": "code",
   "execution_count": 25,
   "metadata": {
    "collapsed": false,
    "deletable": true,
    "editable": true,
    "scrolled": true
   },
   "outputs": [
    {
     "name": "stdout",
     "output_type": "stream",
     "text": [
      "result: 0.385639301727 std:0.00663269203184\n"
     ]
    },
    {
     "data": {
      "text/plain": [
       "(RandomForestClassifier(bootstrap=True, class_weight=None, criterion='entropy',\n",
       "             max_depth=6, max_features='auto', max_leaf_nodes=None,\n",
       "             min_impurity_split=1e-07, min_samples_leaf=1,\n",
       "             min_samples_split=2, min_weight_fraction_leaf=0.0,\n",
       "             n_estimators=20, n_jobs=1, oob_score=False, random_state=None,\n",
       "             verbose=0, warm_start=False),\n",
       " array([ 0.3947666 ,  0.37701297,  0.38839911,  0.38237852]),\n",
       " 0.38563930172732763)"
      ]
     },
     "execution_count": 25,
     "metadata": {},
     "output_type": "execute_result"
    }
   ],
   "source": [
    "Forest = RandomForestClassifier(n_estimators=20,max_depth=6,criterion='entropy')\n",
    "test_alg_cv(Forest,X=data_side.X[:,b],cv= 4)"
   ]
  },
  {
   "cell_type": "code",
   "execution_count": 25,
   "metadata": {
    "collapsed": false,
    "deletable": true,
    "editable": true
   },
   "outputs": [
    {
     "data": {
      "text/html": [
       "<div>\n",
       "<table border=\"1\" class=\"dataframe\">\n",
       "  <thead>\n",
       "    <tr style=\"text-align: right;\">\n",
       "      <th></th>\n",
       "      <th>0</th>\n",
       "      <th>1</th>\n",
       "      <th>2</th>\n",
       "      <th>3</th>\n",
       "      <th>4</th>\n",
       "      <th>5</th>\n",
       "      <th>6</th>\n",
       "      <th>7</th>\n",
       "      <th>8</th>\n",
       "      <th>9</th>\n",
       "      <th>10</th>\n",
       "      <th>11</th>\n",
       "      <th>12</th>\n",
       "      <th>13</th>\n",
       "      <th>14</th>\n",
       "      <th>15</th>\n",
       "      <th>16</th>\n",
       "    </tr>\n",
       "  </thead>\n",
       "  <tbody>\n",
       "    <tr>\n",
       "      <th>count</th>\n",
       "      <td>2.528900e+04</td>\n",
       "      <td>2.528900e+04</td>\n",
       "      <td>2.528900e+04</td>\n",
       "      <td>2.528900e+04</td>\n",
       "      <td>2.528900e+04</td>\n",
       "      <td>2.528900e+04</td>\n",
       "      <td>2.528900e+04</td>\n",
       "      <td>2.528900e+04</td>\n",
       "      <td>2.528900e+04</td>\n",
       "      <td>2.528900e+04</td>\n",
       "      <td>2.528900e+04</td>\n",
       "      <td>2.528900e+04</td>\n",
       "      <td>2.528900e+04</td>\n",
       "      <td>2.528900e+04</td>\n",
       "      <td>2.528900e+04</td>\n",
       "      <td>2.528900e+04</td>\n",
       "      <td>2.528900e+04</td>\n",
       "    </tr>\n",
       "    <tr>\n",
       "      <th>mean</th>\n",
       "      <td>-9.496755e-17</td>\n",
       "      <td>1.362700e-17</td>\n",
       "      <td>2.577891e-17</td>\n",
       "      <td>-1.770105e-17</td>\n",
       "      <td>7.677480e-17</td>\n",
       "      <td>2.047562e-17</td>\n",
       "      <td>1.798202e-17</td>\n",
       "      <td>-7.192809e-17</td>\n",
       "      <td>-6.876719e-17</td>\n",
       "      <td>-7.136615e-17</td>\n",
       "      <td>-2.683255e-17</td>\n",
       "      <td>-9.328174e-17</td>\n",
       "      <td>-3.180570e-16</td>\n",
       "      <td>8.358830e-17</td>\n",
       "      <td>1.334603e-18</td>\n",
       "      <td>-3.624501e-17</td>\n",
       "      <td>-1.275600e-16</td>\n",
       "    </tr>\n",
       "    <tr>\n",
       "      <th>std</th>\n",
       "      <td>1.000020e+00</td>\n",
       "      <td>1.000020e+00</td>\n",
       "      <td>1.000020e+00</td>\n",
       "      <td>1.000020e+00</td>\n",
       "      <td>1.000020e+00</td>\n",
       "      <td>1.000020e+00</td>\n",
       "      <td>1.000020e+00</td>\n",
       "      <td>1.000020e+00</td>\n",
       "      <td>1.000020e+00</td>\n",
       "      <td>1.000020e+00</td>\n",
       "      <td>1.000020e+00</td>\n",
       "      <td>1.000020e+00</td>\n",
       "      <td>1.000020e+00</td>\n",
       "      <td>1.000020e+00</td>\n",
       "      <td>1.000020e+00</td>\n",
       "      <td>1.000020e+00</td>\n",
       "      <td>1.000020e+00</td>\n",
       "    </tr>\n",
       "    <tr>\n",
       "      <th>min</th>\n",
       "      <td>-9.133637e-01</td>\n",
       "      <td>-8.787185e-01</td>\n",
       "      <td>-3.705914e-01</td>\n",
       "      <td>-6.461602e-01</td>\n",
       "      <td>-2.002443e+00</td>\n",
       "      <td>-4.240925e-01</td>\n",
       "      <td>-7.392115e-01</td>\n",
       "      <td>-1.330177e+00</td>\n",
       "      <td>-8.445122e-01</td>\n",
       "      <td>-9.853780e-01</td>\n",
       "      <td>-9.143458e-01</td>\n",
       "      <td>-6.238244e-01</td>\n",
       "      <td>-1.991948e+00</td>\n",
       "      <td>-1.115400e+00</td>\n",
       "      <td>-9.925417e-02</td>\n",
       "      <td>-9.463781e-01</td>\n",
       "      <td>-2.593433e+00</td>\n",
       "    </tr>\n",
       "    <tr>\n",
       "      <th>25%</th>\n",
       "      <td>-7.150745e-01</td>\n",
       "      <td>-7.247733e-01</td>\n",
       "      <td>-3.705914e-01</td>\n",
       "      <td>-5.711457e-01</td>\n",
       "      <td>-7.406313e-01</td>\n",
       "      <td>-4.240925e-01</td>\n",
       "      <td>-7.392115e-01</td>\n",
       "      <td>-1.330177e+00</td>\n",
       "      <td>-7.030901e-01</td>\n",
       "      <td>-7.203942e-01</td>\n",
       "      <td>-7.102849e-01</td>\n",
       "      <td>-6.238244e-01</td>\n",
       "      <td>-6.172892e-01</td>\n",
       "      <td>-7.984072e-01</td>\n",
       "      <td>-5.761687e-02</td>\n",
       "      <td>-6.830208e-01</td>\n",
       "      <td>-8.128022e-01</td>\n",
       "    </tr>\n",
       "    <tr>\n",
       "      <th>50%</th>\n",
       "      <td>-3.680686e-01</td>\n",
       "      <td>-3.399103e-01</td>\n",
       "      <td>-3.705914e-01</td>\n",
       "      <td>-3.711068e-01</td>\n",
       "      <td>1.840300e-01</td>\n",
       "      <td>-4.240925e-01</td>\n",
       "      <td>-4.375677e-01</td>\n",
       "      <td>2.094257e-01</td>\n",
       "      <td>-3.467531e-01</td>\n",
       "      <td>-2.941160e-01</td>\n",
       "      <td>-3.021630e-01</td>\n",
       "      <td>-6.238244e-01</td>\n",
       "      <td>-3.191602e-01</td>\n",
       "      <td>-2.011642e-01</td>\n",
       "      <td>-4.568726e-02</td>\n",
       "      <td>-4.086136e-01</td>\n",
       "      <td>1.914256e-01</td>\n",
       "    </tr>\n",
       "    <tr>\n",
       "      <th>75%</th>\n",
       "      <td>4.250878e-01</td>\n",
       "      <td>2.758705e-01</td>\n",
       "      <td>-7.501825e-02</td>\n",
       "      <td>1.039853e-01</td>\n",
       "      <td>6.593793e-01</td>\n",
       "      <td>-4.240925e-01</td>\n",
       "      <td>1.657198e-01</td>\n",
       "      <td>1.156873e+00</td>\n",
       "      <td>2.944777e-01</td>\n",
       "      <td>3.395409e-01</td>\n",
       "      <td>3.440299e-01</td>\n",
       "      <td>9.942581e-02</td>\n",
       "      <td>3.062481e-01</td>\n",
       "      <td>4.862136e-01</td>\n",
       "      <td>-4.178337e-02</td>\n",
       "      <td>1.402008e-01</td>\n",
       "      <td>9.948079e-01</td>\n",
       "    </tr>\n",
       "    <tr>\n",
       "      <th>max</th>\n",
       "      <td>6.324189e+00</td>\n",
       "      <td>9.974418e+00</td>\n",
       "      <td>2.696993e+01</td>\n",
       "      <td>1.340657e+01</td>\n",
       "      <td>4.006186e+00</td>\n",
       "      <td>2.357976e+00</td>\n",
       "      <td>1.147736e+01</td>\n",
       "      <td>1.156873e+00</td>\n",
       "      <td>8.331237e+00</td>\n",
       "      <td>1.020155e+01</td>\n",
       "      <td>9.934893e+00</td>\n",
       "      <td>4.077302e+00</td>\n",
       "      <td>2.442320e+00</td>\n",
       "      <td>1.126749e+01</td>\n",
       "      <td>5.218206e+01</td>\n",
       "      <td>2.335459e+00</td>\n",
       "      <td>9.948079e-01</td>\n",
       "    </tr>\n",
       "  </tbody>\n",
       "</table>\n",
       "</div>"
      ],
      "text/plain": [
       "                 0             1             2             3             4   \\\n",
       "count  2.528900e+04  2.528900e+04  2.528900e+04  2.528900e+04  2.528900e+04   \n",
       "mean  -9.496755e-17  1.362700e-17  2.577891e-17 -1.770105e-17  7.677480e-17   \n",
       "std    1.000020e+00  1.000020e+00  1.000020e+00  1.000020e+00  1.000020e+00   \n",
       "min   -9.133637e-01 -8.787185e-01 -3.705914e-01 -6.461602e-01 -2.002443e+00   \n",
       "25%   -7.150745e-01 -7.247733e-01 -3.705914e-01 -5.711457e-01 -7.406313e-01   \n",
       "50%   -3.680686e-01 -3.399103e-01 -3.705914e-01 -3.711068e-01  1.840300e-01   \n",
       "75%    4.250878e-01  2.758705e-01 -7.501825e-02  1.039853e-01  6.593793e-01   \n",
       "max    6.324189e+00  9.974418e+00  2.696993e+01  1.340657e+01  4.006186e+00   \n",
       "\n",
       "                 5             6             7             8             9   \\\n",
       "count  2.528900e+04  2.528900e+04  2.528900e+04  2.528900e+04  2.528900e+04   \n",
       "mean   2.047562e-17  1.798202e-17 -7.192809e-17 -6.876719e-17 -7.136615e-17   \n",
       "std    1.000020e+00  1.000020e+00  1.000020e+00  1.000020e+00  1.000020e+00   \n",
       "min   -4.240925e-01 -7.392115e-01 -1.330177e+00 -8.445122e-01 -9.853780e-01   \n",
       "25%   -4.240925e-01 -7.392115e-01 -1.330177e+00 -7.030901e-01 -7.203942e-01   \n",
       "50%   -4.240925e-01 -4.375677e-01  2.094257e-01 -3.467531e-01 -2.941160e-01   \n",
       "75%   -4.240925e-01  1.657198e-01  1.156873e+00  2.944777e-01  3.395409e-01   \n",
       "max    2.357976e+00  1.147736e+01  1.156873e+00  8.331237e+00  1.020155e+01   \n",
       "\n",
       "                 10            11            12            13            14  \\\n",
       "count  2.528900e+04  2.528900e+04  2.528900e+04  2.528900e+04  2.528900e+04   \n",
       "mean  -2.683255e-17 -9.328174e-17 -3.180570e-16  8.358830e-17  1.334603e-18   \n",
       "std    1.000020e+00  1.000020e+00  1.000020e+00  1.000020e+00  1.000020e+00   \n",
       "min   -9.143458e-01 -6.238244e-01 -1.991948e+00 -1.115400e+00 -9.925417e-02   \n",
       "25%   -7.102849e-01 -6.238244e-01 -6.172892e-01 -7.984072e-01 -5.761687e-02   \n",
       "50%   -3.021630e-01 -6.238244e-01 -3.191602e-01 -2.011642e-01 -4.568726e-02   \n",
       "75%    3.440299e-01  9.942581e-02  3.062481e-01  4.862136e-01 -4.178337e-02   \n",
       "max    9.934893e+00  4.077302e+00  2.442320e+00  1.126749e+01  5.218206e+01   \n",
       "\n",
       "                 15            16  \n",
       "count  2.528900e+04  2.528900e+04  \n",
       "mean  -3.624501e-17 -1.275600e-16  \n",
       "std    1.000020e+00  1.000020e+00  \n",
       "min   -9.463781e-01 -2.593433e+00  \n",
       "25%   -6.830208e-01 -8.128022e-01  \n",
       "50%   -4.086136e-01  1.914256e-01  \n",
       "75%    1.402008e-01  9.948079e-01  \n",
       "max    2.335459e+00  9.948079e-01  "
      ]
     },
     "execution_count": 25,
     "metadata": {},
     "output_type": "execute_result"
    }
   ],
   "source": [
    "x_train = pd.read_csv('x_train.csv',sep=';')\n",
    "y_train = pd.read_csv('y_train.csv',sep=';',names=['value'])\n",
    "\n",
    "data = Data(x_train,y_train)\n",
    "data_side= Data(gen_new_features(data.df_X),data.y)\n",
    "data.scale()\n",
    "data_side.scale()\n",
    "data_side.describe()"
   ]
  },
  {
   "cell_type": "code",
   "execution_count": 30,
   "metadata": {
    "collapsed": false,
    "deletable": true,
    "editable": true,
    "scrolled": true
   },
   "outputs": [
    {
     "name": "stdout",
     "output_type": "stream",
     "text": [
      "Fitting 3 folds for each of 320 candidates, totalling 960 fits\n"
     ]
    },
    {
     "name": "stderr",
     "output_type": "stream",
     "text": [
      "[Parallel(n_jobs=6)]: Done  38 tasks      | elapsed:   12.9s\n",
      "[Parallel(n_jobs=6)]: Done 188 tasks      | elapsed:  1.7min\n",
      "[Parallel(n_jobs=6)]: Done 438 tasks      | elapsed:  4.3min\n",
      "[Parallel(n_jobs=6)]: Done 788 tasks      | elapsed:  9.2min\n",
      "[Parallel(n_jobs=6)]: Done 960 out of 960 | elapsed: 12.3min finished\n"
     ]
    },
    {
     "data": {
      "text/plain": [
       "GridSearchCV(cv=None, error_score='raise',\n",
       "       estimator=RandomForestClassifier(bootstrap=True, class_weight=None, criterion='gini',\n",
       "            max_depth=None, max_features='auto', max_leaf_nodes=None,\n",
       "            min_impurity_split=1e-07, min_samples_leaf=1,\n",
       "            min_samples_split=2, min_weight_fraction_leaf=0.0,\n",
       "            n_estimators=10, n_jobs=1, oob_score=True, random_state=None,\n",
       "            verbose=0, warm_start=False),\n",
       "       fit_params={}, iid=True, n_jobs=6,\n",
       "       param_grid={'n_estimators': [40, 45, 50, 55, 60, 65, 70, 75, 80, 85, 90, 95, 100, 105, 110, 115, 120, 125, 130, 135, 140, 145, 150, 155, 160, 165, 170, 175, 180, 185, 190, 195], 'max_depth': [4, 5, 6, 7, 8, 9, 10, 11, 12, 13]},\n",
       "       pre_dispatch='2*n_jobs', refit=True, return_train_score=True,\n",
       "       scoring='neg_log_loss', verbose=1)"
      ]
     },
     "execution_count": 30,
     "metadata": {},
     "output_type": "execute_result"
    }
   ],
   "source": [
    "\n",
    "parameters = {\n",
    "    'n_estimators':range(100,200,5),\n",
    "    'max_depth':range(4,14,1)}\n",
    "\n",
    "svr = RandomForestClassifier(oob_score=True)\n",
    "clf = GridSearchCV(svr, parameters,n_jobs=6,scoring='neg_log_loss',verbose=1)\n",
    "clf.fit(data_side.X, data.y)\n",
    "                            "
   ]
  },
  {
   "cell_type": "code",
   "execution_count": 31,
   "metadata": {
    "collapsed": false,
    "deletable": true,
    "editable": true,
    "scrolled": true
   },
   "outputs": [
    {
     "data": {
      "text/plain": [
       "{'max_depth': 8, 'n_estimators': 160}"
      ]
     },
     "execution_count": 31,
     "metadata": {},
     "output_type": "execute_result"
    }
   ],
   "source": [
    "clf.best_params_"
   ]
  },
  {
   "cell_type": "code",
   "execution_count": 32,
   "metadata": {
    "collapsed": false,
    "deletable": true,
    "editable": true
   },
   "outputs": [
    {
     "data": {
      "text/plain": [
       "-0.38375624432711858"
      ]
     },
     "execution_count": 32,
     "metadata": {},
     "output_type": "execute_result"
    }
   ],
   "source": [
    "clf.best_score_"
   ]
  },
  {
   "cell_type": "code",
   "execution_count": null,
   "metadata": {
    "collapsed": false,
    "deletable": true,
    "editable": true,
    "scrolled": false
   },
   "outputs": [],
   "source": []
  },
  {
   "cell_type": "code",
   "execution_count": 478,
   "metadata": {
    "collapsed": false,
    "deletable": true,
    "editable": true,
    "scrolled": true
   },
   "outputs": [
    {
     "ename": "NameError",
     "evalue": "name 'clf' is not defined",
     "output_type": "error",
     "traceback": [
      "\u001b[0;31m---------------------------------------------------------------------------\u001b[0m",
      "\u001b[0;31mNameError\u001b[0m                                 Traceback (most recent call last)",
      "\u001b[0;32m<ipython-input-478-182022476947>\u001b[0m in \u001b[0;36m<module>\u001b[0;34m()\u001b[0m\n\u001b[1;32m      4\u001b[0m \u001b[0mx_test\u001b[0m\u001b[0;34m=\u001b[0m \u001b[0mdata\u001b[0m\u001b[0;34m.\u001b[0m\u001b[0mscaler\u001b[0m\u001b[0;34m.\u001b[0m\u001b[0mtransform\u001b[0m\u001b[0;34m(\u001b[0m\u001b[0mx_test\u001b[0m\u001b[0;34m)\u001b[0m\u001b[0;34m\u001b[0m\u001b[0m\n\u001b[1;32m      5\u001b[0m \u001b[0;34m\u001b[0m\u001b[0m\n\u001b[0;32m----> 6\u001b[0;31m \u001b[0my_res\u001b[0m \u001b[0;34m=\u001b[0m \u001b[0mclf\u001b[0m\u001b[0;34m.\u001b[0m\u001b[0mpredict_proba\u001b[0m\u001b[0;34m(\u001b[0m\u001b[0mx_test\u001b[0m\u001b[0;34m)\u001b[0m\u001b[0;34m\u001b[0m\u001b[0m\n\u001b[0m\u001b[1;32m      7\u001b[0m \u001b[0my_stay\u001b[0m \u001b[0;34m=\u001b[0m \u001b[0mpd\u001b[0m\u001b[0;34m.\u001b[0m\u001b[0mDataFrame\u001b[0m\u001b[0;34m(\u001b[0m\u001b[0my_res\u001b[0m\u001b[0;34m[\u001b[0m\u001b[0;34m:\u001b[0m\u001b[0;34m,\u001b[0m\u001b[0;36m1\u001b[0m\u001b[0;34m]\u001b[0m\u001b[0;34m)\u001b[0m\u001b[0;34m\u001b[0m\u001b[0m\n\u001b[1;32m      8\u001b[0m \u001b[0my_stay\u001b[0m\u001b[0;34m.\u001b[0m\u001b[0mdescribe\u001b[0m\u001b[0;34m(\u001b[0m\u001b[0;34m)\u001b[0m\u001b[0;34m\u001b[0m\u001b[0m\n",
      "\u001b[0;31mNameError\u001b[0m: name 'clf' is not defined"
     ]
    }
   ],
   "source": [
    "x_test = pd.read_csv('x_test.csv',';')\n",
    "\n",
    "x_test= data.scaler.transform(x_test)\n",
    "\n",
    "y_res = clf.predict_proba(x_test)\n",
    "y_stay = pd.DataFrame(y_res[:,1])\n",
    "y_stay.describe()"
   ]
  },
  {
   "cell_type": "code",
   "execution_count": 13,
   "metadata": {
    "collapsed": false,
    "deletable": true,
    "editable": true,
    "scrolled": true
   },
   "outputs": [
    {
     "name": "stdout",
     "output_type": "stream",
     "text": [
      "531441\n"
     ]
    }
   ],
   "source": [
    "\n",
    "import itertools as it\n",
    "s=0\n",
    "for i in it.product([-1,1,2],repeat=12):\n",
    "    s=s+1\n",
    "print s"
   ]
  },
  {
   "cell_type": "code",
   "execution_count": 163,
   "metadata": {
    "collapsed": false,
    "deletable": true,
    "editable": true,
    "scrolled": true
   },
   "outputs": [
    {
     "ename": "NameError",
     "evalue": "name 'y_stay' is not defined",
     "output_type": "error",
     "traceback": [
      "\u001b[0;31m---------------------------------------------------------------------------\u001b[0m",
      "\u001b[0;31mNameError\u001b[0m                                 Traceback (most recent call last)",
      "\u001b[0;32m<ipython-input-163-0c53bdf91dfa>\u001b[0m in \u001b[0;36m<module>\u001b[0;34m()\u001b[0m\n\u001b[0;32m----> 1\u001b[0;31m \u001b[0my_stay\u001b[0m\u001b[0;34m.\u001b[0m\u001b[0mto_csv\u001b[0m\u001b[0;34m(\u001b[0m\u001b[0;34m'results_Forest.csv'\u001b[0m\u001b[0;34m,\u001b[0m\u001b[0mindex\u001b[0m\u001b[0;34m=\u001b[0m\u001b[0mFalse\u001b[0m\u001b[0;34m,\u001b[0m\u001b[0mheader\u001b[0m\u001b[0;34m=\u001b[0m\u001b[0mFalse\u001b[0m\u001b[0;34m)\u001b[0m\u001b[0;34m\u001b[0m\u001b[0m\n\u001b[0m",
      "\u001b[0;31mNameError\u001b[0m: name 'y_stay' is not defined"
     ]
    }
   ],
   "source": [
    "y_stay.to_csv('results_Forest.csv',index=False,header=False)"
   ]
  },
  {
   "cell_type": "code",
   "execution_count": null,
   "metadata": {
    "collapsed": true,
    "deletable": true,
    "editable": true,
    "scrolled": true
   },
   "outputs": [],
   "source": []
  }
 ],
 "metadata": {
  "kernelspec": {
   "display_name": "Python 3",
   "language": "python",
   "name": "python3"
  },
  "language_info": {
   "codemirror_mode": {
    "name": "ipython",
    "version": 3
   },
   "file_extension": ".py",
   "mimetype": "text/x-python",
   "name": "python",
   "nbconvert_exporter": "python",
   "pygments_lexer": "ipython3",
   "version": "3.6.0"
  }
 },
 "nbformat": 4,
 "nbformat_minor": 1
}
