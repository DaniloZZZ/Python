{
 "cells": [
  {
   "cell_type": "code",
   "execution_count": 1,
   "metadata": {
    "collapsed": false,
    "deletable": true,
    "editable": true
   },
   "outputs": [],
   "source": [
    "import numpy as np\n",
    "import matplotlib.pyplot as plt\n",
    "import pandas as pd\n",
    "import sklearn as sk\n",
    "\n",
    "import MyLib\n",
    "from MyLib import Data\n",
    "\n",
    "%matplotlib inline\n"
   ]
  },
  {
   "cell_type": "code",
   "execution_count": 2,
   "metadata": {
    "collapsed": false,
    "deletable": true,
    "editable": true
   },
   "outputs": [],
   "source": [
    "x_train = pd.read_csv('x_train.csv',sep=';')\n",
    "y_train = pd.read_csv('y_train.csv',sep=';',names=['value'])\n",
    "x_test = x_train = pd.read_csv('x_train.csv',sep=';')\n",
    "\n",
    "data = Data(x_train,y_train)\n",
    "data.scale()\n",
    "data=Data(data.scaler.transform(x_test),data.y)"
   ]
  },
  {
   "cell_type": "code",
   "execution_count": 3,
   "metadata": {
    "collapsed": true,
    "deletable": true,
    "editable": true
   },
   "outputs": [],
   "source": [
    "def cry(y):\n",
    "    n_t = len([y==1])\n",
    "    n_f = len([y==0])\n",
    "    n = float(len(y))\n",
    "    return n_t*n_t/n/n"
   ]
  },
  {
   "cell_type": "code",
   "execution_count": 4,
   "metadata": {
    "collapsed": false,
    "deletable": true,
    "editable": true
   },
   "outputs": [
    {
     "data": {
      "image/png": "[encoded data removed]",
      "text/plain": [
       "<matplotlib.figure.Figure at 0x7f4aa86ff810>"
      ]
     },
     "metadata": {},
     "output_type": "display_data"
    }
   ],
   "source": [
    "fals = plt.hist(data.X[:,3][data.y==0],bins = np.arange(-0.7,2,0.1))\n",
    "tru  = plt.hist(data.X[:,3][data.y==1],bins = np.arange(-0.7,2,0.1))\n",
    "#print fals,tru\n"
   ]
  },
  {
   "cell_type": "code",
   "execution_count": 14,
   "metadata": {
    "collapsed": false,
    "deletable": true,
    "editable": true
   },
   "outputs": [],
   "source": [
    "from sklearn.ensemble import RandomForestClassifier\n"
   ]
  },
  {
   "cell_type": "code",
   "execution_count": 50,
   "metadata": {
    "collapsed": false,
    "deletable": true,
    "editable": true
   },
   "outputs": [
    {
     "name": "stderr",
     "output_type": "stream",
     "text": [
      "/usr/local/lib/python2.7/dist-packages/ipykernel/__main__.py:13: RuntimeWarning: invalid value encountered in double_scalars\n"
     ]
    },
    {
     "name": "stdout",
     "output_type": "stream",
     "text": [
      "59 60\n"
     ]
    },
    {
     "data": {
      "image/png": "[encoded data removed]",
      "text/plain": [
       "<matplotlib.figure.Figure at 0x7f196dec4d10>"
      ]
     },
     "metadata": {},
     "output_type": "display_data"
    }
   ],
   "source": [
    "plt.figure(figsize=(15,6))\n",
    "\n",
    "f_num=2\n",
    "\n",
    "b = np.arange(-1,5,0.1)\n",
    "fals = plt.hist(data.X[:,f_num][data.y==0],bins = b,alpha = 0.3)\n",
    "tru  = plt.hist(data.X[:,f_num][data.y==1], bins = b,alpha=0.3)\n",
    "\n",
    "a = []\n",
    "#print fals[0]\n",
    "for i in range(len(fals[0])):\n",
    "    s = fals[0][i]+tru[0][i]\n",
    "    cr = fals[0][i]*tru[0][i]/s\n",
    "    a.append(cr)\n",
    "\n",
    "plt.plot(fals[1][:-1],np.asarray(a),'r-')\n",
    "\n",
    "print len(a)  , len(fals[1])\n"
   ]
  },
  {
   "cell_type": "code",
   "execution_count": 5,
   "metadata": {
    "collapsed": false,
    "deletable": true,
    "editable": true
   },
   "outputs": [],
   "source": [
    "def cry(X,y,num=100):\n",
    "    xmax = np.amax(X)\n",
    "    xmin =  np.amin(X)\n",
    "    rang = (xmin,xmax)\n",
    "    \n",
    "    tru =np.histogram(X[y==1],bins=num,range=rang)[0]\n",
    "    fals = np.histogram(X[y==0],bins=num,range=rang)[0]\n",
    "    #print tru\n",
    "    res = []\n",
    "    for i in range(num-1):\n",
    "        s = fals[i]+tru[i]\n",
    "        if(s==0):\n",
    "            res.append(0)\n",
    "        else:\n",
    "            cr = fals[i]*tru[i]/s\n",
    "            res.append(cr)\n",
    "    return sum(res)"
   ]
  },
  {
   "cell_type": "code",
   "execution_count": 39,
   "metadata": {
    "collapsed": true,
    "deletable": true,
    "editable": true
   },
   "outputs": [],
   "source": [
    "def cry_mat(X,y):\n",
    "    f = np.asarray(X[y==0])\n",
    "    tr = np.asarray(X[y==1])\n",
    "    a= f.mean()\n",
    "    b= tr.mean()\n",
    "    val  =abs(a-b)/np.std(tr)/np.std(f)\n",
    "    return val"
   ]
  },
  {
   "cell_type": "code",
   "execution_count": 6,
   "metadata": {
    "collapsed": true,
    "deletable": true,
    "editable": true
   },
   "outputs": [],
   "source": [
    "def gen_new_features(df):\n",
    "    x_train = df\n",
    "    df['bonus_in_overall']=  x_train['totalBonusScore']/(1+x_train['totalScore'])\n",
    "    df['score_per_day'] = x_train['totalScore']/x_train['numberOfDaysActuallyPlayed']\n",
    "    df['star_in_bonus'] = x_train['totalStarsCount']/(1 + x_train['totalBonusScore'])\n",
    "    df['top_to_all'] =x_train['attemptsOnTheHighestLevel']/x_train['totalNumOfAttempts']\n",
    "    df['avg_attemps'] =x_train['numberOfAttemptedLevels']/x_train['totalNumOfAttempts']\n",
    "    return df\n",
    "def gen_log_features_fordata(data_side):\n",
    "    data_log = data_side.log_x()\n",
    "    X  = np.concatenate((data_log.X,data_side.X),axis = 1)\n",
    "    return Data(X,data.y)\n",
    "def get_brute_features(data):\n",
    "    DF  = pd.read_csv('new_features.csv',header=None)\n",
    "    return Data(DF,data.y)\n"
   ]
  },
  {
   "cell_type": "code",
   "execution_count": 85,
   "metadata": {
    "collapsed": false,
    "deletable": true,
    "editable": true,
    "scrolled": true
   },
   "outputs": [
    {
     "name": "stdout",
     "output_type": "stream",
     "text": [
      "((25289, 17), (25289,))\n"
     ]
    },
    {
     "data": {
      "text/html": [
       "<div>\n",
       "<table border=\"1\" class=\"dataframe\">\n",
       "  <thead>\n",
       "    <tr style=\"text-align: right;\">\n",
       "      <th></th>\n",
       "      <th>0</th>\n",
       "      <th>1</th>\n",
       "      <th>2</th>\n",
       "      <th>3</th>\n",
       "      <th>4</th>\n",
       "      <th>5</th>\n",
       "      <th>6</th>\n",
       "      <th>7</th>\n",
       "      <th>8</th>\n",
       "      <th>9</th>\n",
       "      <th>10</th>\n",
       "      <th>11</th>\n",
       "      <th>12</th>\n",
       "      <th>13</th>\n",
       "      <th>14</th>\n",
       "      <th>15</th>\n",
       "      <th>16</th>\n",
       "    </tr>\n",
       "  </thead>\n",
       "  <tbody>\n",
       "    <tr>\n",
       "      <th>count</th>\n",
       "      <td>2.528900e+04</td>\n",
       "      <td>2.528900e+04</td>\n",
       "      <td>2.528900e+04</td>\n",
       "      <td>2.528900e+04</td>\n",
       "      <td>2.528900e+04</td>\n",
       "      <td>2.528900e+04</td>\n",
       "      <td>2.528900e+04</td>\n",
       "      <td>2.528900e+04</td>\n",
       "      <td>2.528900e+04</td>\n",
       "      <td>2.528900e+04</td>\n",
       "      <td>2.528900e+04</td>\n",
       "      <td>2.528900e+04</td>\n",
       "      <td>2.528900e+04</td>\n",
       "      <td>2.528900e+04</td>\n",
       "      <td>2.528900e+04</td>\n",
       "      <td>2.528900e+04</td>\n",
       "      <td>2.528900e+04</td>\n",
       "    </tr>\n",
       "    <tr>\n",
       "      <th>mean</th>\n",
       "      <td>-9.496755e-17</td>\n",
       "      <td>1.362700e-17</td>\n",
       "      <td>2.577891e-17</td>\n",
       "      <td>-1.770105e-17</td>\n",
       "      <td>7.677480e-17</td>\n",
       "      <td>2.047562e-17</td>\n",
       "      <td>1.798202e-17</td>\n",
       "      <td>-7.192809e-17</td>\n",
       "      <td>-6.876719e-17</td>\n",
       "      <td>-7.136615e-17</td>\n",
       "      <td>-2.683255e-17</td>\n",
       "      <td>-9.328174e-17</td>\n",
       "      <td>-3.180570e-16</td>\n",
       "      <td>8.358830e-17</td>\n",
       "      <td>1.334603e-18</td>\n",
       "      <td>-3.624501e-17</td>\n",
       "      <td>-1.275600e-16</td>\n",
       "    </tr>\n",
       "    <tr>\n",
       "      <th>std</th>\n",
       "      <td>1.000020e+00</td>\n",
       "      <td>1.000020e+00</td>\n",
       "      <td>1.000020e+00</td>\n",
       "      <td>1.000020e+00</td>\n",
       "      <td>1.000020e+00</td>\n",
       "      <td>1.000020e+00</td>\n",
       "      <td>1.000020e+00</td>\n",
       "      <td>1.000020e+00</td>\n",
       "      <td>1.000020e+00</td>\n",
       "      <td>1.000020e+00</td>\n",
       "      <td>1.000020e+00</td>\n",
       "      <td>1.000020e+00</td>\n",
       "      <td>1.000020e+00</td>\n",
       "      <td>1.000020e+00</td>\n",
       "      <td>1.000020e+00</td>\n",
       "      <td>1.000020e+00</td>\n",
       "      <td>1.000020e+00</td>\n",
       "    </tr>\n",
       "    <tr>\n",
       "      <th>min</th>\n",
       "      <td>-9.133637e-01</td>\n",
       "      <td>-8.787185e-01</td>\n",
       "      <td>-3.705914e-01</td>\n",
       "      <td>-6.461602e-01</td>\n",
       "      <td>-2.002443e+00</td>\n",
       "      <td>-4.240925e-01</td>\n",
       "      <td>-7.392115e-01</td>\n",
       "      <td>-1.330177e+00</td>\n",
       "      <td>-8.445122e-01</td>\n",
       "      <td>-9.853780e-01</td>\n",
       "      <td>-9.143458e-01</td>\n",
       "      <td>-6.238244e-01</td>\n",
       "      <td>-1.991948e+00</td>\n",
       "      <td>-1.115400e+00</td>\n",
       "      <td>-9.925417e-02</td>\n",
       "      <td>-9.463781e-01</td>\n",
       "      <td>-2.593433e+00</td>\n",
       "    </tr>\n",
       "    <tr>\n",
       "      <th>25%</th>\n",
       "      <td>-7.150745e-01</td>\n",
       "      <td>-7.247733e-01</td>\n",
       "      <td>-3.705914e-01</td>\n",
       "      <td>-5.711457e-01</td>\n",
       "      <td>-7.406313e-01</td>\n",
       "      <td>-4.240925e-01</td>\n",
       "      <td>-7.392115e-01</td>\n",
       "      <td>-1.330177e+00</td>\n",
       "      <td>-7.030901e-01</td>\n",
       "      <td>-7.203942e-01</td>\n",
       "      <td>-7.102849e-01</td>\n",
       "      <td>-6.238244e-01</td>\n",
       "      <td>-6.172892e-01</td>\n",
       "      <td>-7.984072e-01</td>\n",
       "      <td>-5.761687e-02</td>\n",
       "      <td>-6.830208e-01</td>\n",
       "      <td>-8.128022e-01</td>\n",
       "    </tr>\n",
       "    <tr>\n",
       "      <th>50%</th>\n",
       "      <td>-3.680686e-01</td>\n",
       "      <td>-3.399103e-01</td>\n",
       "      <td>-3.705914e-01</td>\n",
       "      <td>-3.711068e-01</td>\n",
       "      <td>1.840300e-01</td>\n",
       "      <td>-4.240925e-01</td>\n",
       "      <td>-4.375677e-01</td>\n",
       "      <td>2.094257e-01</td>\n",
       "      <td>-3.467531e-01</td>\n",
       "      <td>-2.941160e-01</td>\n",
       "      <td>-3.021630e-01</td>\n",
       "      <td>-6.238244e-01</td>\n",
       "      <td>-3.191602e-01</td>\n",
       "      <td>-2.011642e-01</td>\n",
       "      <td>-4.568726e-02</td>\n",
       "      <td>-4.086136e-01</td>\n",
       "      <td>1.914256e-01</td>\n",
       "    </tr>\n",
       "    <tr>\n",
       "      <th>75%</th>\n",
       "      <td>4.250878e-01</td>\n",
       "      <td>2.758705e-01</td>\n",
       "      <td>-7.501825e-02</td>\n",
       "      <td>1.039853e-01</td>\n",
       "      <td>6.593793e-01</td>\n",
       "      <td>-4.240925e-01</td>\n",
       "      <td>1.657198e-01</td>\n",
       "      <td>1.156873e+00</td>\n",
       "      <td>2.944777e-01</td>\n",
       "      <td>3.395409e-01</td>\n",
       "      <td>3.440299e-01</td>\n",
       "      <td>9.942581e-02</td>\n",
       "      <td>3.062481e-01</td>\n",
       "      <td>4.862136e-01</td>\n",
       "      <td>-4.178337e-02</td>\n",
       "      <td>1.402008e-01</td>\n",
       "      <td>9.948079e-01</td>\n",
       "    </tr>\n",
       "    <tr>\n",
       "      <th>max</th>\n",
       "      <td>6.324189e+00</td>\n",
       "      <td>9.974418e+00</td>\n",
       "      <td>2.696993e+01</td>\n",
       "      <td>1.340657e+01</td>\n",
       "      <td>4.006186e+00</td>\n",
       "      <td>2.357976e+00</td>\n",
       "      <td>1.147736e+01</td>\n",
       "      <td>1.156873e+00</td>\n",
       "      <td>8.331237e+00</td>\n",
       "      <td>1.020155e+01</td>\n",
       "      <td>9.934893e+00</td>\n",
       "      <td>4.077302e+00</td>\n",
       "      <td>2.442320e+00</td>\n",
       "      <td>1.126749e+01</td>\n",
       "      <td>5.218206e+01</td>\n",
       "      <td>2.335459e+00</td>\n",
       "      <td>9.948079e-01</td>\n",
       "    </tr>\n",
       "  </tbody>\n",
       "</table>\n",
       "</div>"
      ],
      "text/plain": [
       "                 0             1             2             3             4   \\\n",
       "count  2.528900e+04  2.528900e+04  2.528900e+04  2.528900e+04  2.528900e+04   \n",
       "mean  -9.496755e-17  1.362700e-17  2.577891e-17 -1.770105e-17  7.677480e-17   \n",
       "std    1.000020e+00  1.000020e+00  1.000020e+00  1.000020e+00  1.000020e+00   \n",
       "min   -9.133637e-01 -8.787185e-01 -3.705914e-01 -6.461602e-01 -2.002443e+00   \n",
       "25%   -7.150745e-01 -7.247733e-01 -3.705914e-01 -5.711457e-01 -7.406313e-01   \n",
       "50%   -3.680686e-01 -3.399103e-01 -3.705914e-01 -3.711068e-01  1.840300e-01   \n",
       "75%    4.250878e-01  2.758705e-01 -7.501825e-02  1.039853e-01  6.593793e-01   \n",
       "max    6.324189e+00  9.974418e+00  2.696993e+01  1.340657e+01  4.006186e+00   \n",
       "\n",
       "                 5             6             7             8             9   \\\n",
       "count  2.528900e+04  2.528900e+04  2.528900e+04  2.528900e+04  2.528900e+04   \n",
       "mean   2.047562e-17  1.798202e-17 -7.192809e-17 -6.876719e-17 -7.136615e-17   \n",
       "std    1.000020e+00  1.000020e+00  1.000020e+00  1.000020e+00  1.000020e+00   \n",
       "min   -4.240925e-01 -7.392115e-01 -1.330177e+00 -8.445122e-01 -9.853780e-01   \n",
       "25%   -4.240925e-01 -7.392115e-01 -1.330177e+00 -7.030901e-01 -7.203942e-01   \n",
       "50%   -4.240925e-01 -4.375677e-01  2.094257e-01 -3.467531e-01 -2.941160e-01   \n",
       "75%   -4.240925e-01  1.657198e-01  1.156873e+00  2.944777e-01  3.395409e-01   \n",
       "max    2.357976e+00  1.147736e+01  1.156873e+00  8.331237e+00  1.020155e+01   \n",
       "\n",
       "                 10            11            12            13            14  \\\n",
       "count  2.528900e+04  2.528900e+04  2.528900e+04  2.528900e+04  2.528900e+04   \n",
       "mean  -2.683255e-17 -9.328174e-17 -3.180570e-16  8.358830e-17  1.334603e-18   \n",
       "std    1.000020e+00  1.000020e+00  1.000020e+00  1.000020e+00  1.000020e+00   \n",
       "min   -9.143458e-01 -6.238244e-01 -1.991948e+00 -1.115400e+00 -9.925417e-02   \n",
       "25%   -7.102849e-01 -6.238244e-01 -6.172892e-01 -7.984072e-01 -5.761687e-02   \n",
       "50%   -3.021630e-01 -6.238244e-01 -3.191602e-01 -2.011642e-01 -4.568726e-02   \n",
       "75%    3.440299e-01  9.942581e-02  3.062481e-01  4.862136e-01 -4.178337e-02   \n",
       "max    9.934893e+00  4.077302e+00  2.442320e+00  1.126749e+01  5.218206e+01   \n",
       "\n",
       "                 15            16  \n",
       "count  2.528900e+04  2.528900e+04  \n",
       "mean  -3.624501e-17 -1.275600e-16  \n",
       "std    1.000020e+00  1.000020e+00  \n",
       "min   -9.463781e-01 -2.593433e+00  \n",
       "25%   -6.830208e-01 -8.128022e-01  \n",
       "50%   -4.086136e-01  1.914256e-01  \n",
       "75%    1.402008e-01  9.948079e-01  \n",
       "max    2.335459e+00  9.948079e-01  "
      ]
     },
     "execution_count": 85,
     "metadata": {},
     "output_type": "execute_result"
    }
   ],
   "source": [
    "\n",
    "brut_data = get_brute_features(data)\n",
    "brut_data.scale()\n",
    "\n",
    "data_side= Data(gen_new_features(x_test),data.y)\n",
    "\n",
    "data_log = data_side.log_x()\n",
    "data_log.scale()\n",
    "print data_log.shape\n",
    "data_side.scale()\n",
    "data_side.describe()"
   ]
  },
  {
   "cell_type": "code",
   "execution_count": 86,
   "metadata": {
    "collapsed": false,
    "deletable": true,
    "editable": true
   },
   "outputs": [
    {
     "data": {
      "text/plain": [
       "(25289, 31)"
      ]
     },
     "execution_count": 86,
     "metadata": {},
     "output_type": "execute_result"
    }
   ],
   "source": [
    "X  = np.concatenate((data_side.X,brut_data.X),axis = 1)\n",
    "\n",
    "data_side=Data(X,data.y)\n",
    "data_side.X.shape"
   ]
  },
  {
   "cell_type": "code",
   "execution_count": 87,
   "metadata": {
    "collapsed": true,
    "deletable": true,
    "editable": true
   },
   "outputs": [],
   "source": [
    "a = pd.DataFrame(data_side.X)\n",
    "a.to_csv('SideBrutData_test.csv')"
   ]
  },
  {
   "cell_type": "code",
   "execution_count": 35,
   "metadata": {
    "collapsed": false,
    "deletable": true,
    "editable": true,
    "scrolled": true
   },
   "outputs": [],
   "source": [
    "crylist = []\n",
    "\n",
    "for i in range(data_side.X.shape[1]):\n",
    "    crylist.append(cry(data_side.X[:,i],data.y))"
   ]
  },
  {
   "cell_type": "code",
   "execution_count": 36,
   "metadata": {
    "collapsed": true,
    "deletable": true,
    "editable": true
   },
   "outputs": [],
   "source": [
    "from sklearn.neural_network import MLPClassifier"
   ]
  },
  {
   "cell_type": "code",
   "execution_count": 37,
   "metadata": {
    "collapsed": true,
    "deletable": true,
    "editable": true
   },
   "outputs": [
    {
     "name": "stdout",
     "output_type": "stream",
     "text": [
      "result: 0.423784021841 std:0.0059963723909\n",
      "0\n",
      "result: 0.474112587459 std:0.00612988140168\n",
      "1\n",
      "result: 0.411808292962 std:0.00703391632627\n",
      "2\n",
      "result: 0.442757435647 std:0.00597877504727\n",
      "3\n",
      "result: 0.455385854792 std:0.00760911717676\n",
      "4\n",
      "result: 0.48437667262 std:0.00474852559141\n",
      "5\n",
      "result: 0.492102278325 std:0.00338995281215\n",
      "6\n",
      "result: 0.487981242194 std:0.00496698845498\n",
      "7\n",
      "result: 0.404222248541 std:0.00954620289919\n",
      "8\n",
      "result: 0.423614094344 std:0.00583679883141\n",
      "9\n",
      "result: 0.474003790452 std:0.00621627103928\n",
      "10\n",
      "result: 0.514805117317 std:0.00359532300415\n",
      "11\n",
      "result: 0.411801422658 std:0.00700171689255\n",
      "12\n",
      "result: 0.442588884549 std:0.00597422367121\n",
      "13\n",
      "result: 0.579003397275 std:0.00277559506209\n",
      "14\n",
      "result: 0.455269277495 std:0.00756538951396\n",
      "15\n",
      "result: 0.495720304801 std:0.0072737438992\n",
      "16\n",
      "result: 0.484341075995 std:0.00470373185321\n",
      "17\n",
      "result: 0.49205143287 std:0.00327394031293\n",
      "18\n",
      "result: 0.487857821527 std:0.00490361970272\n",
      "19\n",
      "result: 0.40419265833 std:0.00950645546437\n",
      "20\n",
      "result: 0.491027919721 std:0.00407891801868\n",
      "21\n",
      "result: 0.575177592588 std:0.00245308507318\n",
      "22\n",
      "result: 0.480069288099 std:0.00485164911932\n",
      "23\n",
      "result: 0.511866701591 std:0.00348120277459\n",
      "24\n",
      "result: 0.43678586386 std:0.00533643961569\n",
      "25\n",
      "result: 0.465668065936 std:0.00563378927227\n",
      "26\n",
      "result: 0.434545390146 std:0.0081840807957\n",
      "27\n",
      "result: 0.404222527095 std:0.00959806329736\n",
      "28\n",
      "result: 0.487975034741 std:0.00509943258594\n",
      "29\n",
      "result: 0.491793486834 std:0.00372802760948\n",
      "30\n",
      "result: 0.475732211201 std:0.00443100326458\n",
      "31\n",
      "result: 0.484402807354 std:0.00479227321687\n",
      "32\n",
      "result: 0.455385405548 std:0.00767274657491\n",
      "33\n",
      "result: 0.44237894516 std:0.00599129032516\n",
      "34\n",
      "result: 0.411797045786 std:0.00703310672116\n",
      "35\n",
      "result: 0.46605819801 std:0.00657105454953\n",
      "36\n",
      "result: 0.474001325559 std:0.00597672871217\n",
      "37\n",
      "result: 0.480251803 std:0.00587716629327\n",
      "38\n",
      "result: 0.423633179596 std:0.00604616670675\n",
      "39\n"
     ]
    }
   ],
   "source": [
    "Forest = RandomForestClassifier(n_estimators=20,max_depth=4)\n",
    "scores =[]\n",
    "for i in range(data_side.X.shape[1]):\n",
    "    _,_,sc =test_alg_cv(Forest,X=data_side.X[:,i].reshape(25289,1),y=data.y,desc=False)\n",
    "    scores.append(sc)\n",
    "    print i"
   ]
  },
  {
   "cell_type": "code",
   "execution_count": 38,
   "metadata": {
    "collapsed": true,
    "deletable": true,
    "editable": true
   },
   "outputs": [
    {
     "name": "stdout",
     "output_type": "stream",
     "text": [
      "result: 0.386721392947 std:0.00837290654942\n",
      "0\n",
      "result: 0.386142487602 std:0.00848046986293\n",
      "1\n",
      "result: 0.386247935727 std:0.00860903292003\n",
      "2\n",
      "result: 0.38680318687 std:0.00871324519041\n",
      "3\n",
      "result: 0.386301237616 std:0.00883044530599\n",
      "4\n",
      "result: 0.386144751095 std:0.00894706319541\n",
      "5\n",
      "result: 0.386468145364 std:0.00869542603573\n",
      "6\n",
      "result: 0.385624231646 std:0.00870454450338\n",
      "7\n",
      "result: 0.387058312396 std:0.0079720977021\n",
      "8\n",
      "result: 0.386618990174 std:0.00841587286078\n",
      "9\n",
      "result: 0.386777441371 std:0.00845162586276\n",
      "10\n",
      "result: 0.386052478876 std:0.00825184096045\n",
      "11\n",
      "result: 0.386368595971 std:0.00818954103035\n",
      "12\n",
      "result: 0.386038864106 std:0.00870096051386\n",
      "13\n",
      "result: 0.386276268768 std:0.00855800067107\n",
      "14\n",
      "result: 0.38622273642 std:0.0085208864672\n",
      "15\n",
      "result: 0.386019707393 std:0.00854548325236\n",
      "16\n",
      "result: 0.386731821147 std:0.00836189007989\n",
      "17\n",
      "result: 0.386161920238 std:0.00877127464676\n",
      "18\n",
      "result: 0.385575459984 std:0.0085498768967\n",
      "19\n",
      "result: 0.387190038377 std:0.00854426114121\n",
      "20\n",
      "result: 0.386360836224 std:0.00803504610636\n",
      "21\n",
      "result: 0.386687369297 std:0.00851723034102\n",
      "22\n",
      "result: 0.386094801952 std:0.00882738924505\n",
      "23\n",
      "result: 0.386421749591 std:0.00844095857578\n",
      "24\n",
      "result: 0.386607732431 std:0.00855565920569\n",
      "25\n",
      "result: 0.386149162296 std:0.00832310001727\n",
      "26\n",
      "result: 0.386020106328 std:0.00841303041821\n",
      "27\n",
      "result: 0.386978271338 std:0.00835577670538\n",
      "28\n",
      "result: 0.386563154256 std:0.00864438630527\n",
      "29\n",
      "result: 0.386216705064 std:0.00826434624801\n",
      "30\n",
      "result: 0.386659612537 std:0.00810374676745\n",
      "31\n",
      "result: 0.386296998443 std:0.0085596437879\n",
      "32\n",
      "result: 0.385887592437 std:0.00857865389727\n",
      "33\n",
      "result: 0.386293856375 std:0.008605913405\n",
      "34\n",
      "result: 0.386331680759 std:0.00856934320284\n",
      "35\n",
      "result: 0.386578524406 std:0.00892141335787\n",
      "36\n",
      "result: 0.386015192725 std:0.00826768573195\n",
      "37\n",
      "result: 0.386148186275 std:0.00838784738747\n",
      "38\n",
      "result: 0.386310215771 std:0.0085173398265\n",
      "39\n"
     ]
    }
   ],
   "source": [
    "scores_out =[]\n",
    "for i in range(data_side.X.shape[1]):\n",
    "    a = np.delete(range(data_side.X.shape[1]),i)\n",
    "    _,_,sc =test_alg_cv(Forest,X=data_side.X[:,a].reshape(25289,data_side.X.shape[1]-1),y=data.y,desc=False)\n",
    "    scores_out.append(sc)\n",
    "    print i"
   ]
  },
  {
   "cell_type": "code",
   "execution_count": 40,
   "metadata": {
    "collapsed": false,
    "deletable": true,
    "editable": true
   },
   "outputs": [
    {
     "name": "stdout",
     "output_type": "stream",
     "text": [
      "[1.9544456803848564, 1.3133302198010748, 1.8743455304038767, 1.1246740513327642, 1.5421025065621832, 0.60099183212309903, 0.66388018991266307, 1.1417752694940739, 1.9858686805631802, 1.537653868153058, 1.2551272006847678, 0.80022297180071533, 1.6762604847025437, 1.4534645085027731, 0.45570997237279626, 1.3413529658433616, 0.29390563381215506, 1.1528703581725337, 1.1067875910096274, 1.1654476544570747, 1.8917474693072214, 1.4649581966767817, 0.098276795491125085, 0.015251542547525197, 0.8035435888321717, 1.6658669281651057, 1.087580020148148, 1.2563285623325318, 1.8917474693070868, 1.1654476544570334, 1.1067875910096361, 1.1390020487054013, 1.1528703581725486, 1.341352965843251, 1.4534645085029168, 1.676260484702482, 1.1814363066342053, 1.2551272006847467, 1.070584684350937, 1.5376538681528937]\n"
     ]
    }
   ],
   "source": [
    "crylist_mat = []\n",
    "for i in range(data_side.X.shape[1]):\n",
    "    crylist_mat.append(cry_mat(data_side.X[:,i],data.y))\n",
    "print crylist_mat\n",
    "crylist = []\n",
    "for i in range(data_side.X.shape[1]):\n",
    "    crylist.append(cry(data_side.X[:,i],data.y))\n"
   ]
  },
  {
   "cell_type": "code",
   "execution_count": 1,
   "metadata": {
    "collapsed": false,
    "deletable": true,
    "editable": true
   },
   "outputs": [
    {
     "ename": "SyntaxError",
     "evalue": "Missing parentheses in call to 'print' (<ipython-input-1-80c2d3dc9e81>, line 8)",
     "output_type": "error",
     "traceback": [
      "\u001b[0;36m  File \u001b[0;32m\"<ipython-input-1-80c2d3dc9e81>\"\u001b[0;36m, line \u001b[0;32m8\u001b[0m\n\u001b[0;31m    print s\u001b[0m\n\u001b[0m          ^\u001b[0m\n\u001b[0;31mSyntaxError\u001b[0m\u001b[0;31m:\u001b[0m Missing parentheses in call to 'print'\n"
     ]
    }
   ],
   "source": [
    "#print crylist\n",
    "g = np.array([scores,crylist,crylist_mat,scores_out])\n",
    "a = [i for i in g]\n",
    "s =np.asarray(a)\n",
    "for i in range(len(a)):\n",
    "    a = np.asarray(s[i])\n",
    "    s[i]=(a-a.mean())/a.std()\n",
    "print s\n",
    "plt.figure(figsize=(19,7))\n",
    "plt.plot(s[0],label='scores')\n",
    "plt.plot(-s[3],label='scores_out')\n",
    "plt.plot(s[1],'g-.',label='cry')\n",
    "plt.plot(-s[2],'r-.',label='cry_mat')\n",
    "plt.plot((s[1]-s[2])/2.,'k',label='sum')\n",
    "plt.legend()"
   ]
  },
  {
   "cell_type": "markdown",
   "metadata": {},
   "source": [
    "#### the idea is to guess distribution func using kde and use some criterion based on math"
   ]
  },
  {
   "cell_type": "code",
   "execution_count": 3,
   "metadata": {
    "collapsed": false,
    "deletable": true,
    "editable": true
   },
   "outputs": [],
   "source": [
    "from scipy.stats.kde import gaussian_kde\n",
    "from scipy.stats import norm"
   ]
  },
  {
   "cell_type": "code",
   "execution_count": 4,
   "metadata": {
    "collapsed": false,
    "deletable": true,
    "editable": true
   },
   "outputs": [
    {
     "ename": "NameError",
     "evalue": "name 'data_log' is not defined",
     "output_type": "error",
     "traceback": [
      "\u001b[0;31m---------------------------------------------------------------------------\u001b[0m",
      "\u001b[0;31mNameError\u001b[0m                                 Traceback (most recent call last)",
      "\u001b[0;32m<ipython-input-4-61737605f885>\u001b[0m in \u001b[0;36m<module>\u001b[0;34m()\u001b[0m\n\u001b[0;32m----> 1\u001b[0;31m \u001b[0mda\u001b[0m \u001b[0;34m=\u001b[0m \u001b[0mdata_log\u001b[0m\u001b[0;34m.\u001b[0m\u001b[0mX\u001b[0m\u001b[0;34m[\u001b[0m\u001b[0;34m:\u001b[0m\u001b[0;34m,\u001b[0m\u001b[0;36m2\u001b[0m\u001b[0;34m]\u001b[0m\u001b[0;34m[\u001b[0m\u001b[0mdata\u001b[0m\u001b[0;34m.\u001b[0m\u001b[0my\u001b[0m\u001b[0;34m==\u001b[0m\u001b[0;36m0\u001b[0m\u001b[0;34m]\u001b[0m\u001b[0;34m[\u001b[0m\u001b[0;34m:\u001b[0m\u001b[0;36m25000\u001b[0m\u001b[0;34m]\u001b[0m\u001b[0;34m\u001b[0m\u001b[0m\n\u001b[0m\u001b[1;32m      2\u001b[0m \u001b[0mKDEpdf\u001b[0m \u001b[0;34m=\u001b[0m \u001b[0mgaussian_kde\u001b[0m\u001b[0;34m(\u001b[0m\u001b[0mda\u001b[0m\u001b[0;34m,\u001b[0m\u001b[0mbw_method\u001b[0m\u001b[0;34m=\u001b[0m\u001b[0;36m0.4\u001b[0m\u001b[0;34m)\u001b[0m\u001b[0;34m\u001b[0m\u001b[0m\n\u001b[1;32m      3\u001b[0m \u001b[0mda1\u001b[0m \u001b[0;34m=\u001b[0m \u001b[0mdata_log\u001b[0m\u001b[0;34m.\u001b[0m\u001b[0mX\u001b[0m\u001b[0;34m[\u001b[0m\u001b[0;34m:\u001b[0m\u001b[0;34m,\u001b[0m\u001b[0;36m2\u001b[0m\u001b[0;34m]\u001b[0m\u001b[0;34m[\u001b[0m\u001b[0mdata\u001b[0m\u001b[0;34m.\u001b[0m\u001b[0my\u001b[0m\u001b[0;34m==\u001b[0m\u001b[0;36m1\u001b[0m\u001b[0;34m]\u001b[0m\u001b[0;34m[\u001b[0m\u001b[0;34m:\u001b[0m\u001b[0;36m25000\u001b[0m\u001b[0;34m]\u001b[0m\u001b[0;34m\u001b[0m\u001b[0m\n\u001b[1;32m      4\u001b[0m \u001b[0mKDEpdf1\u001b[0m \u001b[0;34m=\u001b[0m \u001b[0mgaussian_kde\u001b[0m\u001b[0;34m(\u001b[0m\u001b[0mda1\u001b[0m\u001b[0;34m,\u001b[0m\u001b[0mbw_method\u001b[0m\u001b[0;34m=\u001b[0m\u001b[0;36m0.4\u001b[0m\u001b[0;34m)\u001b[0m\u001b[0;34m\u001b[0m\u001b[0m\n\u001b[1;32m      5\u001b[0m \u001b[0mx\u001b[0m \u001b[0;34m=\u001b[0m \u001b[0mnp\u001b[0m\u001b[0;34m.\u001b[0m\u001b[0mlinspace\u001b[0m\u001b[0;34m(\u001b[0m\u001b[0;34m-\u001b[0m\u001b[0;36m1\u001b[0m\u001b[0;34m,\u001b[0m\u001b[0;36m17\u001b[0m\u001b[0;34m,\u001b[0m\u001b[0;36m1000\u001b[0m\u001b[0;34m)\u001b[0m\u001b[0;34m\u001b[0m\u001b[0m\n",
      "\u001b[0;31mNameError\u001b[0m: name 'data_log' is not defined"
     ]
    }
   ],
   "source": [
    "da = data_log.X[:,2][data.y==0][:25000]\n",
    "KDEpdf = gaussian_kde(da,bw_method=0.4)\n",
    "da1 = data_log.X[:,2][data.y==1][:25000]\n",
    "KDEpdf1 = gaussian_kde(da1,bw_method=0.4)\n",
    "x = np.linspace(-1,17,1000)\n",
    "\n",
    "plt.figure(figsize=(15,5))\n",
    "plt.plot(x,KDEpdf(x),alpha=0.5)\n",
    "plt.hist(da,normed=1)\n",
    "plt.plot(x,KDEpdf1(x))\n",
    "plt.hist(da1,normed=1,alpha=0.5)"
   ]
  },
  {
   "cell_type": "code",
   "execution_count": 8,
   "metadata": {
    "collapsed": false,
    "deletable": true,
    "editable": true
   },
   "outputs": [
    {
     "name": "stdout",
     "output_type": "stream",
     "text": [
      "plot for totalNumOfAttempts\n",
      "plot for \n"
     ]
    },
    {
     "data": {
      "image/png": "[encoded data removed]",
      "text/plain": [
       "<matplotlib.figure.Figure at 0x7fca1277f090>"
      ]
     },
     "metadata": {},
     "output_type": "display_data"
    }
   ],
   "source": [
    "x_train = pd.read_csv('x_train.csv',sep=';')\n",
    "y_train = pd.read_csv('y_train.csv',sep=';',names=['value'])\n",
    "plt.figure(figsize=(15,10))\n",
    "data = Data(x_train,y_train)\n",
    "data.plot_hist(3,bins=np.linspace(0,10,100),x=np.linspace(0,8,100))\n",
    "data_log = data.log_x()\n",
    "data_log.plot_hist(3,bins=np.linspace(0,10,100),x=np.linspace(0,8,100))"
   ]
  },
  {
   "cell_type": "code",
   "execution_count": null,
   "metadata": {
    "collapsed": true,
    "deletable": true,
    "editable": true
   },
   "outputs": [],
   "source": []
  },
  {
   "cell_type": "code",
   "execution_count": null,
   "metadata": {
    "collapsed": true,
    "deletable": true,
    "editable": true
   },
   "outputs": [],
   "source": []
  },
  {
   "cell_type": "code",
   "execution_count": null,
   "metadata": {
    "collapsed": false,
    "deletable": true,
    "editable": true,
    "scrolled": false
   },
   "outputs": [
    {
     "name": "stdout",
     "output_type": "stream",
     "text": [
      "[[ 3.68887945  2.39789527  2.89037176 ..., -0.18596511 -0.31018867\n",
      "   1.01995513]\n",
      " [ 3.09104245  3.13549422  4.02535169 ...,  0.73770604  0.65878427\n",
      "   0.12765415]\n",
      " [ 1.79175947  1.94591015  1.94591015 ..., -0.49385549 -0.48625112\n",
      "  -0.66550227]\n",
      " ..., \n",
      " [ 1.94591015  2.07944154  2.30258509 ..., -0.4168829  -0.37560734 -0.61593   ]\n",
      " [ 4.02535169  0.69314718  0.69314718 ..., -0.87871847 -0.93042863\n",
      "   1.81311155]\n",
      " [ 0.69314718  1.09861229  1.09861229 ..., -0.80174588 -0.70524831\n",
      "  -0.86379138]]\n"
     ]
    },
    {
     "data": {
      "text/plain": [
       "<seaborn.axisgrid.PairGrid at 0x7fa62e519fd0>"
      ]
     },
     "execution_count": 80,
     "metadata": {},
     "output_type": "execute_result"
    }
   ],
   "source": [
    "import seaborn\n",
    "print data_side.X\n",
    "seaborn.pairplot(pd.DataFrame(data_side.X))"
   ]
  },
  {
   "cell_type": "code",
   "execution_count": 100,
   "metadata": {
    "collapsed": false,
    "deletable": true,
    "editable": true
   },
   "outputs": [
    {
     "name": "stdout",
     "output_type": "stream",
     "text": [
      "MLP without 5 and 7:\n",
      "result: 0.384647668862 std:0.00901532192572\n",
      "MLP with full\n",
      "result: 0.384876504612 std:0.00907458514774\n",
      "delta: -0.000228835750727\n",
      "Forest without 5 and 7:\n",
      "result: 0.388216562467 std:0.00824320942359\n",
      "Forest with full\n",
      "result: 0.389502070799 std:0.00831486219927\n",
      "delta: -0.00128550833231\n"
     ]
    }
   ],
   "source": [
    "#dropping 5 and 7\n",
    "MLP = MLPClassifier(hidden_layer_sizes=(25,1))\n",
    "a = np.delete(range(12),[1,8,10])\n",
    "\n",
    "print \"MLP without 1,8,10:\"\n",
    "_,_,s1 =test_alg_cv(MLP,X=data.X[:,a])\n",
    "print \"MLP with full\"\n",
    "_,_,s2 =test_alg_cv(MLP)\n",
    "print \"delta:\",s1-s2\n",
    "\n",
    "\n",
    "print \"Forest without 1,8,10:\"\n",
    "_,_,s1=test_alg_cv(Forest,X = data.X[:,a])\n",
    "print \"Forest with full\"\n",
    "_,_,s2=test_alg_cv(Forest)\n",
    "print \"delta:\",s1-s2\n",
    "\n"
   ]
  },
  {
   "cell_type": "code",
   "execution_count": 81,
   "metadata": {
    "collapsed": false,
    "deletable": true,
    "editable": true
   },
   "outputs": [
    {
     "name": "stdout",
     "output_type": "stream",
     "text": [
      "plot for fractionOfUsefullBoosters\n"
     ]
    },
    {
     "data": {
      "image/png": "[encoded data removed]",
      "text/plain": [
       "<matplotlib.figure.Figure at 0x7f100f1ab910>"
      ]
     },
     "metadata": {},
     "output_type": "display_data"
    }
   ],
   "source": [
    "data.plot_hist(7)"
   ]
  },
  {
   "cell_type": "code",
   "execution_count": 20,
   "metadata": {
    "collapsed": true,
    "deletable": true,
    "editable": true
   },
   "outputs": [],
   "source": [
    "#Universal testing function\n",
    "def test_alg(algo,X=data.X,y=data.y,test_size = 0.2,desc = True):  \n",
    "        # X=X will use your global X defined above. \n",
    "        \n",
    "    x_train_, x_test_, y_train_, y_test_ = sk.model_selection.train_test_split(X,y,test_size=test_size)\n",
    "    #fitting the model\n",
    "    algo.fit(x_train_,y_train_)\n",
    "    y_pred = algo.predict_proba(x_test_)\n",
    "    #return log loss\n",
    "    metrics = sk.metrics.log_loss(y_test_,y_pred)\n",
    "    s= \"result: \"+str(metrics)\n",
    "    if desc:\n",
    "        s = s+\" \\n\\nAlgorithm info:\\n\"+str(algo)\n",
    "    print s\n",
    "    return algo\n",
    "\n",
    "def scor_logloss(estimator,X,y):\n",
    "    pr = estimator.predict_proba(X)\n",
    "    return sk.metrics.log_loss(y,pr)\n",
    "\n",
    "def test_alg_cv(algo,X=data.X,y=data.y,test_size = 0.2,desc = False,cv=5):  \n",
    "    # X=X will use your global X defined above. \n",
    "    #return log loss\n",
    "    cv_score = sk.model_selection.cross_val_score(algo,X,y,scoring=scor_logloss,cv=cv)\n",
    "    s= \"result: \"+str(cv_score.mean())+\" std:\"+str(np.std(cv_score))\n",
    "    if desc:\n",
    "        s = s+\" \\n\\nAlgorithm info:\\n\"+str(algo)\n",
    "    print s\n",
    "    return algo,cv_score,cv_score.mean()"
   ]
  },
  {
   "cell_type": "code",
   "execution_count": 102,
   "metadata": {
    "collapsed": false,
    "deletable": true,
    "editable": true
   },
   "outputs": [
    {
     "name": "stdout",
     "output_type": "stream",
     "text": [
      "result: 0.429043416413 std:0.0863041437605\n"
     ]
    }
   ],
   "source": [
    "clf,_,_=test_alg_cv(MLP)"
   ]
  },
  {
   "cell_type": "code",
   "execution_count": 101,
   "metadata": {
    "collapsed": false,
    "deletable": true,
    "editable": true,
    "scrolled": true
   },
   "outputs": [
    {
     "ename": "NotFittedError",
     "evalue": "This MLPClassifier instance is not fitted yet. Call 'fit' with appropriate arguments before using this method.",
     "output_type": "error",
     "traceback": [
      "\u001b[0;31m---------------------------------------------------------------------------\u001b[0m",
      "\u001b[0;31mNotFittedError\u001b[0m                            Traceback (most recent call last)",
      "\u001b[0;32m<ipython-input-101-4fd85b9926b9>\u001b[0m in \u001b[0;36m<module>\u001b[0;34m()\u001b[0m\n\u001b[1;32m      3\u001b[0m \u001b[0mx_test\u001b[0m\u001b[0;34m=\u001b[0m \u001b[0mdata\u001b[0m\u001b[0;34m.\u001b[0m\u001b[0mscaler\u001b[0m\u001b[0;34m.\u001b[0m\u001b[0mtransform\u001b[0m\u001b[0;34m(\u001b[0m\u001b[0mx_test\u001b[0m\u001b[0;34m)\u001b[0m\u001b[0;34m\u001b[0m\u001b[0m\n\u001b[1;32m      4\u001b[0m \u001b[0;34m\u001b[0m\u001b[0m\n\u001b[0;32m----> 5\u001b[0;31m \u001b[0my_res\u001b[0m \u001b[0;34m=\u001b[0m \u001b[0mMLP\u001b[0m\u001b[0;34m.\u001b[0m\u001b[0mpredict_proba\u001b[0m\u001b[0;34m(\u001b[0m\u001b[0mx_test\u001b[0m\u001b[0;34m)\u001b[0m\u001b[0;34m\u001b[0m\u001b[0m\n\u001b[0m\u001b[1;32m      6\u001b[0m \u001b[0;34m\u001b[0m\u001b[0m\n\u001b[1;32m      7\u001b[0m \u001b[0my_stay\u001b[0m \u001b[0;34m=\u001b[0m \u001b[0mpd\u001b[0m\u001b[0;34m.\u001b[0m\u001b[0mDataFrame\u001b[0m\u001b[0;34m(\u001b[0m\u001b[0my_res\u001b[0m\u001b[0;34m[\u001b[0m\u001b[0;34m:\u001b[0m\u001b[0;34m,\u001b[0m\u001b[0;36m1\u001b[0m\u001b[0;34m]\u001b[0m\u001b[0;34m)\u001b[0m\u001b[0;34m\u001b[0m\u001b[0m\n",
      "\u001b[0;32m/usr/local/lib/python2.7/dist-packages/sklearn/neural_network/multilayer_perceptron.pyc\u001b[0m in \u001b[0;36mpredict_proba\u001b[0;34m(self, X)\u001b[0m\n\u001b[1;32m   1008\u001b[0m             \u001b[0mmodel\u001b[0m\u001b[0;34m,\u001b[0m \u001b[0mwhere\u001b[0m \u001b[0mclasses\u001b[0m \u001b[0mare\u001b[0m \u001b[0mordered\u001b[0m \u001b[0;32mas\u001b[0m \u001b[0mthey\u001b[0m \u001b[0mare\u001b[0m \u001b[0;32min\u001b[0m \u001b[0;34m`\u001b[0m\u001b[0mself\u001b[0m\u001b[0;34m.\u001b[0m\u001b[0mclasses_\u001b[0m\u001b[0;34m`\u001b[0m\u001b[0;34m.\u001b[0m\u001b[0;34m\u001b[0m\u001b[0m\n\u001b[1;32m   1009\u001b[0m         \"\"\"\n\u001b[0;32m-> 1010\u001b[0;31m         \u001b[0mcheck_is_fitted\u001b[0m\u001b[0;34m(\u001b[0m\u001b[0mself\u001b[0m\u001b[0;34m,\u001b[0m \u001b[0;34m\"coefs_\"\u001b[0m\u001b[0;34m)\u001b[0m\u001b[0;34m\u001b[0m\u001b[0m\n\u001b[0m\u001b[1;32m   1011\u001b[0m         \u001b[0my_pred\u001b[0m \u001b[0;34m=\u001b[0m \u001b[0mself\u001b[0m\u001b[0;34m.\u001b[0m\u001b[0m_predict\u001b[0m\u001b[0;34m(\u001b[0m\u001b[0mX\u001b[0m\u001b[0;34m)\u001b[0m\u001b[0;34m\u001b[0m\u001b[0m\n\u001b[1;32m   1012\u001b[0m \u001b[0;34m\u001b[0m\u001b[0m\n",
      "\u001b[0;32m/usr/local/lib/python2.7/dist-packages/sklearn/utils/validation.pyc\u001b[0m in \u001b[0;36mcheck_is_fitted\u001b[0;34m(estimator, attributes, msg, all_or_any)\u001b[0m\n\u001b[1;32m    688\u001b[0m     \u001b[0;32mif\u001b[0m \u001b[0;32mnot\u001b[0m \u001b[0mall_or_any\u001b[0m\u001b[0;34m(\u001b[0m\u001b[0;34m[\u001b[0m\u001b[0mhasattr\u001b[0m\u001b[0;34m(\u001b[0m\u001b[0mestimator\u001b[0m\u001b[0;34m,\u001b[0m \u001b[0mattr\u001b[0m\u001b[0;34m)\u001b[0m \u001b[0;32mfor\u001b[0m \u001b[0mattr\u001b[0m \u001b[0;32min\u001b[0m \u001b[0mattributes\u001b[0m\u001b[0;34m]\u001b[0m\u001b[0;34m)\u001b[0m\u001b[0;34m:\u001b[0m\u001b[0;34m\u001b[0m\u001b[0m\n\u001b[1;32m    689\u001b[0m         \u001b[0;31m# FIXME NotFittedError_ --> NotFittedError in 0.19\u001b[0m\u001b[0;34m\u001b[0m\u001b[0;34m\u001b[0m\u001b[0m\n\u001b[0;32m--> 690\u001b[0;31m         \u001b[0;32mraise\u001b[0m \u001b[0m_NotFittedError\u001b[0m\u001b[0;34m(\u001b[0m\u001b[0mmsg\u001b[0m \u001b[0;34m%\u001b[0m \u001b[0;34m{\u001b[0m\u001b[0;34m'name'\u001b[0m\u001b[0;34m:\u001b[0m \u001b[0mtype\u001b[0m\u001b[0;34m(\u001b[0m\u001b[0mestimator\u001b[0m\u001b[0;34m)\u001b[0m\u001b[0;34m.\u001b[0m\u001b[0m__name__\u001b[0m\u001b[0;34m}\u001b[0m\u001b[0;34m)\u001b[0m\u001b[0;34m\u001b[0m\u001b[0m\n\u001b[0m\u001b[1;32m    691\u001b[0m \u001b[0;34m\u001b[0m\u001b[0m\n\u001b[1;32m    692\u001b[0m \u001b[0;34m\u001b[0m\u001b[0m\n",
      "\u001b[0;31mNotFittedError\u001b[0m: This MLPClassifier instance is not fitted yet. Call 'fit' with appropriate arguments before using this method."
     ]
    }
   ],
   "source": [
    "x_test = pd.read_csv('x_test.csv',';')\n",
    "\n",
    "x_test= data.scaler.transform(x_test)\n",
    "\n",
    "y_res = MLP.predict_proba(x_test)\n",
    "\n",
    "y_stay = pd.DataFrame(y_res[:,1])\n",
    "y_stay.describe()"
   ]
  },
  {
   "cell_type": "code",
   "execution_count": null,
   "metadata": {
    "collapsed": true,
    "deletable": true,
    "editable": true
   },
   "outputs": [],
   "source": []
  }
 ],
 "metadata": {
  "kernelspec": {
   "display_name": "Python 3",
   "language": "python",
   "name": "python3"
  },
  "language_info": {
   "codemirror_mode": {
    "name": "ipython",
    "version": 3
   },
   "file_extension": ".py",
   "mimetype": "text/x-python",
   "name": "python",
   "nbconvert_exporter": "python",
   "pygments_lexer": "ipython3",
   "version": "3.6.0"
  }
 },
 "nbformat": 4,
 "nbformat_minor": 1
}
