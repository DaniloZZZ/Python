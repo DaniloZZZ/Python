{
 "cells": [
  {
   "cell_type": "markdown",
   "metadata": {},
   "source": [
    "# Лабораторная работа №3.2.6 \"Исследование гальванометра\""
   ]
  },
  {
   "cell_type": "code",
   "execution_count": 5,
   "metadata": {
    "collapsed": true
   },
   "outputs": [],
   "source": [
    "import numpy as np\n",
    "from matplotlib import pyplot as plt\n",
    "import pandas as pd\n",
    "import seaborn\n",
    "%matplotlib inline"
   ]
  },
  {
   "cell_type": "code",
   "execution_count": 42,
   "metadata": {
    "collapsed": false
   },
   "outputs": [
    {
     "data": {
      "text/html": [
       "<div>\n",
       "<table border=\"1\" class=\"dataframe\">\n",
       "  <thead>\n",
       "    <tr style=\"text-align: right;\">\n",
       "      <th></th>\n",
       "      <th>R</th>\n",
       "      <th>X</th>\n",
       "      <th>X.decr</th>\n",
       "      <th>x1</th>\n",
       "      <th>x2</th>\n",
       "      <th>x3</th>\n",
       "      <th>R.d</th>\n",
       "      <th>k</th>\n",
       "    </tr>\n",
       "  </thead>\n",
       "  <tbody>\n",
       "    <tr>\n",
       "      <th>0</th>\n",
       "      <td>0.80</td>\n",
       "      <td>25.0</td>\n",
       "      <td>25.0</td>\n",
       "      <td>22.2</td>\n",
       "      <td>2.5</td>\n",
       "      <td>0.4</td>\n",
       "      <td>14.1</td>\n",
       "      <td>3.0</td>\n",
       "    </tr>\n",
       "    <tr>\n",
       "      <th>1</th>\n",
       "      <td>0.83</td>\n",
       "      <td>24.5</td>\n",
       "      <td>22.3</td>\n",
       "      <td>24.8</td>\n",
       "      <td>5.2</td>\n",
       "      <td>1.1</td>\n",
       "      <td>18.8</td>\n",
       "      <td>4.0</td>\n",
       "    </tr>\n",
       "    <tr>\n",
       "      <th>2</th>\n",
       "      <td>1.00</td>\n",
       "      <td>22.0</td>\n",
       "      <td>20.0</td>\n",
       "      <td>20.1</td>\n",
       "      <td>5.5</td>\n",
       "      <td>1.6</td>\n",
       "      <td>23.5</td>\n",
       "      <td>5.0</td>\n",
       "    </tr>\n",
       "    <tr>\n",
       "      <th>3</th>\n",
       "      <td>1.20</td>\n",
       "      <td>19.5</td>\n",
       "      <td>NaN</td>\n",
       "      <td>23.9</td>\n",
       "      <td>8.0</td>\n",
       "      <td>2.7</td>\n",
       "      <td>28.2</td>\n",
       "      <td>6.0</td>\n",
       "    </tr>\n",
       "    <tr>\n",
       "      <th>4</th>\n",
       "      <td>1.40</td>\n",
       "      <td>17.5</td>\n",
       "      <td>NaN</td>\n",
       "      <td>25.2</td>\n",
       "      <td>10.7</td>\n",
       "      <td>4.7</td>\n",
       "      <td>37.6</td>\n",
       "      <td>8.0</td>\n",
       "    </tr>\n",
       "  </tbody>\n",
       "</table>\n",
       "</div>"
      ],
      "text/plain": [
       "      R     X  X.decr    x1    x2   x3   R.d    k\n",
       "0  0.80  25.0    25.0  22.2   2.5  0.4  14.1  3.0\n",
       "1  0.83  24.5    22.3  24.8   5.2  1.1  18.8  4.0\n",
       "2  1.00  22.0    20.0  20.1   5.5  1.6  23.5  5.0\n",
       "3  1.20  19.5     NaN  23.9   8.0  2.7  28.2  6.0\n",
       "4  1.40  17.5     NaN  25.2  10.7  4.7  37.6  8.0"
      ]
     },
     "execution_count": 42,
     "metadata": {},
     "output_type": "execute_result"
    }
   ],
   "source": [
    "data = pd.read_csv('Lab1.csv', error_bad_lines=False)\n",
    "pd\n",
    "R12=1/2000.\n",
    "V=1.2\n",
    "R0=610\n",
    "R2=10000\n",
    "a=130\n",
    "Rcr=4700\n",
    "\n",
    "data.head(5)"
   ]
  },
  {
   "cell_type": "code",
   "execution_count": 44,
   "metadata": {
    "collapsed": false
   },
   "outputs": [
    {
     "name": "stdout",
     "output_type": "stream",
     "text": [
      "0.0005\n"
     ]
    },
    {
     "data": {
      "text/plain": [
       "[<matplotlib.lines.Line2D at 0xdc04b00>]"
      ]
     },
     "execution_count": 44,
     "metadata": {},
     "output_type": "execute_result"
    },
    {
     "data": {
      "image/png": "[encoded data removed]",
      "text/plain": [
       "<matplotlib.figure.Figure at 0xd7f4748>"
      ]
     },
     "metadata": {},
     "output_type": "display_data"
    }
   ],
   "source": [
    "data1=data[['R','X']]\n",
    "I=float(V)*R12/(data['R']*1000+R0)\n",
    "print R12\n",
    "plt.plot(data['X'],I)\n"
   ]
  },
  {
   "cell_type": "code",
   "execution_count": 93,
   "metadata": {
    "collapsed": false
   },
   "outputs": [
    {
     "name": "stdout",
     "output_type": "stream",
     "text": [
      "[[  1.00541890e-09]\n",
      " [  1.79568407e-08]\n",
      " [  3.49082624e-08]\n",
      " [  5.18596842e-08]\n",
      " [  6.88111059e-08]\n",
      " [  8.57625277e-08]\n",
      " [  1.02713949e-07]\n",
      " [  1.19665371e-07]\n",
      " [  1.36616793e-07]\n",
      " [  1.53568215e-07]\n",
      " [  1.70519637e-07]\n",
      " [  1.87471058e-07]\n",
      " [  2.04422480e-07]\n",
      " [  2.21373902e-07]\n",
      " [  2.38325324e-07]\n",
      " [  2.55276745e-07]\n",
      " [  2.72228167e-07]\n",
      " [  2.89179589e-07]\n",
      " [  3.06131011e-07]\n",
      " [  3.23082432e-07]\n",
      " [  3.40033854e-07]\n",
      " [  3.56985276e-07]\n",
      " [  3.73936698e-07]\n",
      " [  3.90888119e-07]\n",
      " [  4.07839541e-07]]\n"
     ]
    },
    {
     "data": {
      "text/plain": [
       "[<matplotlib.lines.Line2D at 0xd2bc400>]"
      ]
     },
     "execution_count": 93,
     "metadata": {},
     "output_type": "execute_result"
    },
    {
     "data": {
      "image/png": "[encoded data removed]",
      "text/plain": [
       "<matplotlib.figure.Figure at 0xd75d898>"
      ]
     },
     "metadata": {},
     "output_type": "display_data"
    }
   ],
   "source": [
    "from sklearn.linear_model import LinearRegression\n",
    "l = LinearRegression()\n",
    "X=data['X'].reshape(14,1)\n",
    "\n",
    "l.fit(np.hstack([X,np.ones((14,1))]),I.reshape(14,1))\n",
    "p = l.predict(np.hstack([np.arange(0,25,1).reshape(25,1),np.ones((25,1))]))\n",
    "print p\n",
    "plt.plot(np.arange(0,25,1),p)\n",
    "plt.plot(data['X'],I)"
   ]
  },
  {
   "cell_type": "code",
   "execution_count": null,
   "metadata": {
    "collapsed": true
   },
   "outputs": [],
   "source": []
  }
 ],
 "metadata": {
  "kernelspec": {
   "display_name": "Python [Root]",
   "language": "python",
   "name": "Python [Root]"
  },
  "language_info": {
   "codemirror_mode": {
    "name": "ipython",
    "version": 2
   },
   "file_extension": ".py",
   "mimetype": "text/x-python",
   "name": "python",
   "nbconvert_exporter": "python",
   "pygments_lexer": "ipython2",
   "version": "2.7.11"
  }
 },
 "nbformat": 4,
 "nbformat_minor": 0
}
