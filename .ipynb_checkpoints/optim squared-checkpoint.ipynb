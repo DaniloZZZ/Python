{
 "cells": [
  {
   "cell_type": "code",
   "execution_count": 9,
   "metadata": {
    "collapsed": true
   },
   "outputs": [],
   "source": [
    "import pandas as pd\n",
    "import numpy as np\n",
    "import matplotlib.pyplot as plt\n",
    "import scipy.stats as sts\n",
    "import scipy\n",
    "import scipy.optimize as opt \n",
    "%matplotlib inline"
   ]
  },
  {
   "cell_type": "code",
   "execution_count": 7,
   "metadata": {
    "collapsed": false
   },
   "outputs": [
    {
     "name": "stdout",
     "output_type": "stream",
     "text": [
      "2.0 3.0\n"
     ]
    },
    {
     "data": {
      "text/plain": [
       "      fun: array([ 0.15557436])\n",
       " hess_inv: array([[1]])\n",
       "      jac: array([ 0.04444444])\n",
       "  message: 'Desired error not necessarily achieved due to precision loss.'\n",
       "     nfev: 129\n",
       "      nit: 0\n",
       "     njev: 41\n",
       "   status: 2\n",
       "  success: False\n",
       "        x: array([ 3.])"
      ]
     },
     "execution_count": 7,
     "metadata": {},
     "output_type": "execute_result"
    }
   ],
   "source": [
    "rxd=13\n",
    "rxu=2000\n",
    "u0=5\n",
    "uxd=3.2\n",
    "uxu=3.4 \n",
    "def f(x,y):\n",
    "    rr = uxu*(rxu*(x+y)+x*y)/(rxu*y)-uxd*(rxd*(x+y)+x*y)/(rxd*y)\n",
    "    rm = (uxu-uxd)*(rxu-rxd)*(x+y)+(uxu-uxd)*x*y+u0*(rxu-rxd)*y \n",
    "    return np.abs(rr)\n",
    "def h(x,y):\n",
    "    return f(y,x)\n",
    "xmin = scipy.optimize.minimize(f,2.0,1.0).x[0]\n",
    "ymin = scipy.optimize.minimize(h,3.0,xmin).x[0]\n",
    " \n",
    "print xmin, ymin\n",
    "scipy.optimize.minimize(h,3.0,xmin)"
   ]
  },
  {
   "cell_type": "code",
   "execution_count": 3,
   "metadata": {
    "collapsed": false
   },
   "outputs": [
    {
     "ename": "NameError",
     "evalue": "name 'opt' is not defined",
     "output_type": "error",
     "traceback": [
      "\u001b[1;31m---------------------------------------------------------------------------\u001b[0m",
      "\u001b[1;31mNameError\u001b[0m                                 Traceback (most recent call last)",
      "\u001b[1;32m<ipython-input-3-007d911a467f>\u001b[0m in \u001b[0;36m<module>\u001b[1;34m()\u001b[0m\n\u001b[1;32m----> 1\u001b[1;33m \u001b[0mopt\u001b[0m\u001b[1;33m.\u001b[0m\u001b[0mdifferential_evolution\u001b[0m\u001b[1;33m(\u001b[0m\u001b[0mf\u001b[0m\u001b[1;33m,\u001b[0m\u001b[1;33m[\u001b[0m\u001b[1;33m(\u001b[0m\u001b[1;36m0\u001b[0m\u001b[1;33m,\u001b[0m\u001b[1;36m3000\u001b[0m\u001b[1;33m)\u001b[0m\u001b[1;33m]\u001b[0m\u001b[1;33m,\u001b[0m \u001b[1;36m2.00\u001b[0m\u001b[1;33m)\u001b[0m\u001b[1;33m\u001b[0m\u001b[0m\n\u001b[0m",
      "\u001b[1;31mNameError\u001b[0m: name 'opt' is not defined"
     ]
    }
   ],
   "source": [
    "opt.differential_evolution(f,[(0,3000)], 2.00)"
   ]
  },
  {
   "cell_type": "code",
   "execution_count": 245,
   "metadata": {
    "collapsed": false
   },
   "outputs": [
    {
     "name": "stdout",
     "output_type": "stream",
     "text": [
      "R1 = 6.295 R2 = 2.956 || 3.10862446895e-14 2.129\n",
      "I_max = 200.0 mA  I_min = 1.13  mA\n",
      "U_max = 3.4 V  U_min = 3.0 V\n"
     ]
    }
   ],
   "source": [
    "rxd=15\n",
    "rxu=3000\n",
    "u0=5\n",
    "uxd=3.0\n",
    "uxu=3.5\n",
    "alu=0.68\n",
    "ald=0.60\n",
    "\n",
    "def r1(r2,rx,al):\n",
    "    return -(al*rx*r2)/(rx*(al-1)+al*r2)\n",
    "def dif(r2):\n",
    "    return abs(r1(r2,rxu,alu) - r1(r2,rxd,ald))\n",
    "r2=0\n",
    "while (r2<0.1):\n",
    "    r2 = opt.differential_evolution(dif,[(0.,3000.)]).x[0]\n",
    "    \n",
    "r11= r1(r2,rxu,alu)\n",
    "print \"R1 =\",round(r11,3),\"R2 =\",round(r2,3),\"||\",opt.differential_evolution(dif,[(0.,3000.)]).fun,  round(r11/r2,3)\n",
    "print \"I_max =\", round(5000.*ald/rxd,2),\"mA \", \"I_min =\" , round(5000.*alu/rxu,2), \" mA\"\n",
    "print \"U_max =\", round(5*alu,3),\"V \",\"U_min =\",round(5*ald,3),\"V\""
   ]
  },
  {
   "cell_type": "code",
   "execution_count": 231,
   "metadata": {
    "collapsed": false
   },
   "outputs": [
    {
     "name": "stdout",
     "output_type": "stream",
     "text": [
      "4.6894936789 4.68949367887\n"
     ]
    },
    {
     "data": {
      "text/plain": [
       "[<matplotlib.lines.Line2D at 0x154d6978>]"
      ]
     },
     "execution_count": 231,
     "metadata": {},
     "output_type": "execute_result"
    },
    {
     "data": {
      "image/png": "[encoded data removed]",
      "text/plain": [
       "<matplotlib.figure.Figure at 0x15217278>"
      ]
     },
     "metadata": {},
     "output_type": "display_data"
    }
   ],
   "source": [
    "print r1(r2,rxu,alu), r1(r2,rxd,ald)\n",
    "x=np.arange(-3,r2+10,0.1)\n",
    "y=dif(x)\n",
    "plt.plot(x,y)"
   ]
  },
  {
   "cell_type": "code",
   "execution_count": 211,
   "metadata": {
    "collapsed": false
   },
   "outputs": [
    {
     "data": {
      "text/plain": [
       "[<matplotlib.lines.Line2D at 0x14a3e4e0>]"
      ]
     },
     "execution_count": 211,
     "metadata": {},
     "output_type": "execute_result"
    },
    {
     "data": {
      "image/png": "[encoded data removed]",
      "text/plain": [
       "<matplotlib.figure.Figure at 0x14938518>"
      ]
     },
     "metadata": {},
     "output_type": "display_data"
    }
   ],
   "source": [
    "x=np.arange(-100,170,1)\n",
    "y=r1(x,rxu,alu)\n",
    "plt.plot(x,y)"
   ]
  },
  {
   "cell_type": "code",
   "execution_count": 200,
   "metadata": {
    "collapsed": false
   },
   "outputs": [
    {
     "data": {
      "text/plain": [
       "[<matplotlib.lines.Line2D at 0x13af6860>]"
      ]
     },
     "execution_count": 200,
     "metadata": {},
     "output_type": "execute_result"
    },
    {
     "data": {
      "image/png": "[encoded data removed]",
      "text/plain": [
       "<matplotlib.figure.Figure at 0x138ec0f0>"
      ]
     },
     "metadata": {},
     "output_type": "display_data"
    }
   ],
   "source": [
    "x=np.arange(-100,70,1)\n",
    "y=r1(x,rxd,ald)\n",
    "plt.plot(x,y)"
   ]
  },
  {
   "cell_type": "code",
   "execution_count": 79,
   "metadata": {
    "collapsed": false
   },
   "outputs": [
    {
     "data": {
      "text/plain": [
       "[<matplotlib.lines.Line2D at 0xecc9a20>]"
      ]
     },
     "execution_count": 79,
     "metadata": {},
     "output_type": "execute_result"
    },
    {
     "data": {
      "image/png": "[encoded data removed]",
      "text/plain": [
       "<matplotlib.figure.Figure at 0xe682ba8>"
      ]
     },
     "metadata": {},
     "output_type": "display_data"
    }
   ],
   "source": [
    "x=np.arange(-40,40,0.7)\n",
    "y=dif(x)\n",
    "plt.plot(x,y)"
   ]
  },
  {
   "cell_type": "code",
   "execution_count": null,
   "metadata": {
    "collapsed": true
   },
   "outputs": [],
   "source": []
  }
 ],
 "metadata": {
  "anaconda-cloud": {},
  "kernelspec": {
   "display_name": "Python [Root]",
   "language": "python",
   "name": "Python [Root]"
  },
  "language_info": {
   "codemirror_mode": {
    "name": "ipython",
    "version": 2
   },
   "file_extension": ".py",
   "mimetype": "text/x-python",
   "name": "python",
   "nbconvert_exporter": "python",
   "pygments_lexer": "ipython2",
   "version": "2.7.11"
  }
 },
 "nbformat": 4,
 "nbformat_minor": 0
}
