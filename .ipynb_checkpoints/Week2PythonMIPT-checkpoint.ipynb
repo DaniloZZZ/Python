{
 "cells": [
  {
   "cell_type": "code",
   "execution_count": 1,
   "metadata": {
    "collapsed": true
   },
   "outputs": [],
   "source": [
    "import numpy as np\n",
    "import scipy as sci\n",
    "import pandas as pd\n",
    "import re"
   ]
  },
  {
   "cell_type": "code",
   "execution_count": 201,
   "metadata": {
    "collapsed": false
   },
   "outputs": [],
   "source": [
    "f = open('mytex1.txt','r')"
   ]
  },
  {
   "cell_type": "code",
   "execution_count": 202,
   "metadata": {
    "collapsed": false
   },
   "outputs": [
    {
     "data": {
      "text/plain": [
       "439"
      ]
     },
     "execution_count": 202,
     "metadata": {},
     "output_type": "execute_result"
    }
   ],
   "source": [
    "f.seek(0)\n",
    "s = f.read()\n",
    "s = s.lower()\n",
    "l =  s.split('.')\n",
    "l = np.asarray(l)\n",
    "l= [x for x in l if x != '']\n",
    "lg= len(l)\n",
    "s = re.split('[^a-z]',s)\n",
    "s = [x for x in s if x != '']\n",
    "s= {}.fromkeys(s)\n",
    "i=0\n",
    "f.close()\n",
    "for key in s:\n",
    "    s[key]=i\n",
    "    i=i+1\n",
    "wrdl = len(s)  \n",
    "lg\n",
    "#print s['cat']"
   ]
  },
  {
   "cell_type": "code",
   "execution_count": 203,
   "metadata": {
    "collapsed": false
   },
   "outputs": [
    {
     "name": "stdout",
     "output_type": "stream",
     "text": [
      " when he saw the first hussar with the unbuttoned uniform of his regiment, when he recognized red-haired dementyev and saw the picket ropes of the roan horses, when lavrushka gleefully shouted to his master, \"the count has come!\" and denisov, who had been asleep on his bed, ran all disheveled out of the mud hut to embrace him, and the officers collected round to greet the new arrival, rostov experienced the same feeling his mother, his father, and his sister had embraced him, and tears of joy choked him so that he could not speak\n"
     ]
    }
   ],
   "source": [
    "i=0\n",
    "j=0\n",
    "wr=np.zeros((lg+1,wrdl))\n",
    "#l = l.astype('object')\n",
    "for st in l:\n",
    "    if (i==2):\n",
    "        print st\n",
    "    for w in re.split('[^a-z]',st):\n",
    "        if w !='':\n",
    "       # print w,i,j\n",
    "            #print w\n",
    "            j=s[w]\n",
    "            wr[i][j]= wr[i][j]+1 \n",
    "        \n",
    "    j=0\n",
    "    i=i+1\n",
    "\n",
    "           "
   ]
  },
  {
   "cell_type": "code",
   "execution_count": 204,
   "metadata": {
    "collapsed": false
   },
   "outputs": [],
   "source": [
    "import scipy.spatial.distance as ac\n",
    "#print scipy.spatial.distance.cosine(wr[0,:],wr[3,:])\n",
    "res =  np.arange(0,lg,1.0)\n",
    "mres = np.zeros((lg,lg))\n",
    "for i in np.arange(0,lg,1): \n",
    "    #print ac.cosine(wr[0,:],wr[i,:])\n",
    "    res[i] = ac.cosine(wr[0,:],wr[i,:])\n",
    "    for j in np.arange(0,lg,1):\n",
    "        mres[i][j] = ac.cosine(wr[j,:],wr[i,:])\n",
    "        if (i == j):\n",
    "            mres[i][j]=1\n",
    "mm = np.ones((lg,1))\n",
    "for i in np.arange(0,lg,1):\n",
    "    mm[i] = min(mres[:,i])\n",
    "\n"
   ]
  },
  {
   "cell_type": "code",
   "execution_count": 205,
   "metadata": {
    "collapsed": false,
    "scrolled": false
   },
   "outputs": [
    {
     "name": "stdout",
     "output_type": "stream",
     "text": [
      " life in the regiment, during this campaign, was all the pleasanter for him, because, after his loss to dolokhov (for which, in spite of all his family's efforts to console him, he could not forgive himself), he had made up his mind to atone for his fault by serving, not as he had done before, but really well, and by being a perfectly first-rate comrade and officer- in a word, a splendid man altogether, a thing which seemed so difficult out in the world, but so possible in the regiment\n",
      "297 149\n"
     ]
    },
    {
     "data": {
      "text/plain": [
       "0.26961363788203541"
      ]
     },
     "execution_count": 205,
     "metadata": {},
     "output_type": "execute_result"
    }
   ],
   "source": [
    "min(res)\n",
    "dic = {mres[x][12]:l[x] for x in np.arange(0,lg,1) }\n",
    "print l[12]\n",
    "#mres = pd.DataFrame(mres.round(2))\n",
    "\n",
    "minm = min(mm)\n",
    "ix=0\n",
    "iy=0\n",
    "for i in np.arange(0,lg,1):\n",
    "       #print i\n",
    "    for j in np.arange(0,lg,1):\n",
    "        if mres[i][j]==minm:\n",
    "            ix=i\n",
    "            iy=j\n",
    "print ix,iy\n",
    "mres[ix][iy]"
   ]
  },
  {
   "cell_type": "code",
   "execution_count": 206,
   "metadata": {
    "collapsed": false,
    "scrolled": true
   },
   "outputs": [
    {
     "name": "stdout",
     "output_type": "stream",
     "text": [
      "[ 0.26961364]\n",
      " it had snowed the day before and the path to the hothouse, along which the prince was in the habit of walking, had been swept: the marks of the broom were still visible in the snow and a shovel had been left sticking in one of the soft snowbanks that bordered both sides of the path\n",
      " below the height on which the kiev regiment was stationed, in the hollow where the rivulet flowed, the soul-stirring rolling and crackling of musketry was heard, and much farther to the right beyond the dragoons, the officer of the suite pointed out to bagration a french column that was outflanking us\n"
     ]
    }
   ],
   "source": [
    "\n",
    "print minm\n",
    "pd.DataFrame(mres.round(2))\n",
    "print l[ix]\n",
    "print l[iy]"
   ]
  },
  {
   "cell_type": "code",
   "execution_count": 256,
   "metadata": {
    "collapsed": false
   },
   "outputs": [],
   "source": [
    "import scipy.linalg as lin"
   ]
  },
  {
   "cell_type": "code",
   "execution_count": 320,
   "metadata": {
    "collapsed": false
   },
   "outputs": [
    {
     "name": "stdout",
     "output_type": "stream",
     "text": [
      "1.87783841659\n"
     ]
    }
   ],
   "source": [
    "def f(x):\n",
    "    \n",
    "    return sc.sin(x / 5.) * sc.exp(x / 10.) + 5 * sc.exp(-x / 2.)\n",
    "print f(3)"
   ]
  },
  {
   "cell_type": "code",
   "execution_count": 321,
   "metadata": {
    "collapsed": false
   },
   "outputs": [
    {
     "data": {
      "text/plain": [
       "5.0"
      ]
     },
     "execution_count": 321,
     "metadata": {},
     "output_type": "execute_result"
    }
   ],
   "source": [
    "f(0)\n"
   ]
  },
  {
   "cell_type": "code",
   "execution_count": 322,
   "metadata": {
    "collapsed": false
   },
   "outputs": [
    {
     "name": "stdout",
     "output_type": "stream",
     "text": [
      "[[   1    1    1    1]\n",
      " [   1    4   16   64]\n",
      " [   1   10  100 1000]\n",
      " [   1   15  225 3375]]\n",
      "5.0\n"
     ]
    }
   ],
   "source": [
    "a = np.array([[1,1,1,1],[1,4,16,4**3],[1,10,100,1000],[1,15,15**2,15**3]])\n",
    "b = np.array([f(1),f(4),f(10),f(15)])\n",
    "r = lin.solve(a,b)\n",
    "print a\n",
    "\n",
    "print f(0)"
   ]
  },
  {
   "cell_type": "code",
   "execution_count": 323,
   "metadata": {
    "collapsed": false
   },
   "outputs": [
    {
     "data": {
      "text/plain": [
       "4.3626415351180707"
      ]
     },
     "execution_count": 323,
     "metadata": {},
     "output_type": "execute_result"
    }
   ],
   "source": [
    "x=np.arange(0,16,0.1)\n",
    "y=f(x)\n",
    "y1=g(x,r)\n",
    "import matplotlib.pyplot as plt\n",
    "plt.plot(x,y,'-',x,y1,'-')\n",
    "plt.show()\n",
    "r[0]"
   ]
  },
  {
   "cell_type": "code",
   "execution_count": 324,
   "metadata": {
    "collapsed": false
   },
   "outputs": [],
   "source": [
    "def g(x,r):\n",
    "    return r[0]+r[1]*x+r[2]*x**2 + r[3]*x**3\n",
    "x=np.arange(0,16,0.1)\n",
    "y=f(x)\n",
    "y1=g(x,r)\n",
    "\n",
    "plt.plot(x,y,'-',x,y1,'-')\n",
    "plt.show()"
   ]
  },
  {
   "cell_type": "code",
   "execution_count": 325,
   "metadata": {
    "collapsed": false
   },
   "outputs": [
    {
     "name": "stdout",
     "output_type": "stream",
     "text": [
      "3.25221686527 1.74684594959 2.505416407 0.635221419579\n",
      "3.25221686527 1.74684594959 2.505416407 0.635221419579\n",
      "[ 4.36264154 -1.29552587  0.19333685 -0.00823565]\n"
     ]
    }
   ],
   "source": [
    "print f(1), f(4),f(10),f(15)\n",
    "print g(1,r),g(4,r),g(10,r),g(15,r)\n",
    "print r"
   ]
  },
  {
   "cell_type": "code",
   "execution_count": null,
   "metadata": {
    "collapsed": true
   },
   "outputs": [],
   "source": []
  }
 ],
 "metadata": {
  "anaconda-cloud": {},
  "kernelspec": {
   "display_name": "Python [Root]",
   "language": "python",
   "name": "Python [Root]"
  },
  "language_info": {
   "codemirror_mode": {
    "name": "ipython",
    "version": 2
   },
   "file_extension": ".py",
   "mimetype": "text/x-python",
   "name": "python",
   "nbconvert_exporter": "python",
   "pygments_lexer": "ipython2",
   "version": "2.7.11"
  }
 },
 "nbformat": 4,
 "nbformat_minor": 0
}
